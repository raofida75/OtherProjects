{
 "cells": [
  {
   "cell_type": "markdown",
   "metadata": {},
   "source": [
    "* Importing the neccessary libraries"
   ]
  },
  {
   "cell_type": "code",
   "execution_count": 1,
   "metadata": {},
   "outputs": [],
   "source": [
    "import pandas as pd\n",
    "import numpy as np\n",
    "import matplotlib.pyplot as plt\n",
    "import warnings\n",
    "warnings.filterwarnings('ignore')\n",
    "from lr_utils import load_dataset\n"
   ]
  },
  {
   "cell_type": "markdown",
   "metadata": {},
   "source": [
    "# Loading Image Classification Data\n",
    "\n",
    "\n",
    "\n",
    "\n",
    "\n"
   ]
  },
  {
   "cell_type": "code",
   "execution_count": 2,
   "metadata": {},
   "outputs": [
    {
     "name": "stdout",
     "output_type": "stream",
     "text": [
      "Shape before flattening:  (209, 64, 64, 3) (1, 209) (50, 64, 64, 3) (1, 50)\n"
     ]
    }
   ],
   "source": [
    "train_set_x_orig, train_set_y, test_set_x_orig, test_set_y, classes = load_dataset()\n",
    "print('Shape before flattening: ',train_set_x_orig.shape, train_set_y.shape, test_set_x_orig.shape, test_set_y.shape)\n",
    "\n",
    "flattened_train = train_set_x_orig.reshape(train_set_x_orig.shape[0],-1).T\n",
    "flattened_test = test_set_x_orig.reshape(test_set_x_orig.shape[0],-1).T"
   ]
  },
  {
   "cell_type": "markdown",
   "metadata": {},
   "source": [
    "* Scaling the images between 0 and 1"
   ]
  },
  {
   "cell_type": "code",
   "execution_count": 3,
   "metadata": {},
   "outputs": [
    {
     "name": "stdout",
     "output_type": "stream",
     "text": [
      "Shape after flattening:  (12288, 209) (12288, 50) (1, 50)\n"
     ]
    }
   ],
   "source": [
    "X_train = flattened_train / 255\n",
    "X_test = flattened_test / 255\n",
    "y_train = train_set_y\n",
    "y_test = test_set_y\n",
    "\n",
    "print('Shape after flattening: ',X_train.shape, X_test.shape, y_test.shape)"
   ]
  },
  {
   "cell_type": "markdown",
   "metadata": {},
   "source": [
    "# Writing Functions for a Neural Network"
   ]
  },
  {
   "cell_type": "markdown",
   "metadata": {},
   "source": [
    "* initialize parameters"
   ]
  },
  {
   "cell_type": "code",
   "execution_count": 4,
   "metadata": {},
   "outputs": [],
   "source": [
    "def initialize_param(layer_dims):\n",
    "    np.random.seed(3)\n",
    "    parameters = {}\n",
    "    L = len(layer_dims)\n",
    "    \n",
    "    for l in range(1, L):\n",
    "        parameters['W'+str(l)] = np.random.randn(layer_dims[l], layer_dims[l-1]) * (2/ np.sqrt(layer_dims[l-1]))\n",
    "        parameters['b'+str(l)] = np.zeros((layer_dims[l], 1))\n",
    "    return parameters"
   ]
  },
  {
   "cell_type": "markdown",
   "metadata": {},
   "source": [
    "* forward propagation for a single layer"
   ]
  },
  {
   "cell_type": "code",
   "execution_count": 5,
   "metadata": {},
   "outputs": [],
   "source": [
    "def S_forward_propagation(A_prev , W, b, activation):\n",
    "    Z = np.dot(W, A_prev) + b\n",
    "    if activation == 'relu':\n",
    "        A = np.maximum(0,Z)\n",
    "    elif activation == 'sigmoid':\n",
    "        A = 1 / (1+np.exp(-Z))\n",
    "    \n",
    "    cache = (A_prev, Z, W, b)\n",
    "    return A, cache"
   ]
  },
  {
   "cell_type": "markdown",
   "metadata": {},
   "source": [
    "* forward propagation for a L layer neural network"
   ]
  },
  {
   "cell_type": "code",
   "execution_count": 6,
   "metadata": {},
   "outputs": [],
   "source": [
    "def L_forward_propagation(A_prev , parameters):\n",
    "    L = len(parameters) // 2\n",
    "    caches = []\n",
    "    for l in range(1, L):\n",
    "        W, b = parameters['W'+str(l)], parameters['b'+str(l)]\n",
    "        A, cache = S_forward_propagation(A_prev, W, b, activation='relu')\n",
    "        caches.append(cache)\n",
    "        A_prev = A\n",
    "    \n",
    "    W, b = parameters['W'+str(L)], parameters['b'+str(L)]\n",
    "    AL, cache = S_forward_propagation(A_prev, W, b, activation='sigmoid')\n",
    "    caches.append(cache)\n",
    "    return AL, caches"
   ]
  },
  {
   "cell_type": "markdown",
   "metadata": {},
   "source": [
    "* computing regularized cost"
   ]
  },
  {
   "cell_type": "code",
   "execution_count": 7,
   "metadata": {},
   "outputs": [],
   "source": [
    "def compute_regularized_cost(AL, y , lambd, parameters):\n",
    "    m = y.shape[1]\n",
    "    cost = (1/m) * -(np.dot(y, np.log(AL).T) + np.dot(1-y, np.log(1-AL).T)) \n",
    "    \n",
    "    L = len(parameters) // 2\n",
    "    \n",
    "    reg = 0\n",
    "    for l in range(1, L+1):\n",
    "        reg = reg + np.sum(np.square(parameters['W'+str(l)]))\n",
    "    \n",
    "    reg_cost = cost + (lambd/(2*m)) * reg\n",
    "    \n",
    "    return np.squeeze(reg_cost)"
   ]
  },
  {
   "cell_type": "markdown",
   "metadata": {},
   "source": [
    "* computing gradients for all the parameters"
   ]
  },
  {
   "cell_type": "code",
   "execution_count": 8,
   "metadata": {},
   "outputs": [],
   "source": [
    "def compute_grads(AL, y , caches, lambd):\n",
    "    dZL = AL - y\n",
    "    L = len(caches)\n",
    "    grads = {}\n",
    "    m = y.shape[1]\n",
    "    \n",
    "    A_prev = caches[L-1][0]\n",
    "    W = caches[L-1][2]\n",
    "#     b = caches[L-1][3]\n",
    "    grads['dW'+str(L)] = 1/m * np.dot(dZL, A_prev.T) + ((lambd/m) * W)\n",
    "    grads['db'+str(L)] = 1/m * np.sum(dZL, axis=1, keepdims=True)\n",
    "    \n",
    "    dZ = dZL\n",
    "    for l in range(L-1, 0,-1):\n",
    "        A, A_prev = caches[l][0] , caches[l-1][0]\n",
    "        Wahead , W = caches[l][2] , caches[l-1][2]        \n",
    "        \n",
    "        dA = np.dot(Wahead.T, dZ)\n",
    "        dZ = np.multiply(dA, np.int64(A > 0))\n",
    "        grads['dW'+str(l)] = 1/m * np.dot(dZ, A_prev.T) + ((lambd/m) * W)\n",
    "        grads['db'+str(l)] = 1/m * np.sum(dZ, axis=1, keepdims=True)\n",
    "        \n",
    "    return grads   "
   ]
  },
  {
   "cell_type": "markdown",
   "metadata": {},
   "source": [
    "* updating the parameters"
   ]
  },
  {
   "cell_type": "code",
   "execution_count": 9,
   "metadata": {},
   "outputs": [],
   "source": [
    "def update_parameters(parameters, grads, alpha):\n",
    "    L = len(parameters) // 2\n",
    "    \n",
    "    updated_params = {}\n",
    "    \n",
    "    for l in range(1, L+1):\n",
    "        updated_params['W'+str(l)] =parameters['W'+str(l)] - alpha * grads['dW'+str(l)] \n",
    "        updated_params['b'+str(l)] =parameters['b'+str(l)] - alpha * grads['db'+str(l)]         \n",
    "        \n",
    "    return updated_params"
   ]
  },
  {
   "cell_type": "markdown",
   "metadata": {},
   "source": [
    "* Evaluating the model"
   ]
  },
  {
   "cell_type": "code",
   "execution_count": 10,
   "metadata": {},
   "outputs": [],
   "source": [
    "def predict(weights, X):\n",
    "    AL,_ = L_forward_propagation(X, weights)\n",
    "    return np.int64(AL >= 0.5)"
   ]
  },
  {
   "cell_type": "code",
   "execution_count": 11,
   "metadata": {},
   "outputs": [],
   "source": [
    "def accuracy(y, ypred):\n",
    "    return np.mean(y == ypred)*100"
   ]
  },
  {
   "cell_type": "markdown",
   "metadata": {},
   "source": [
    "* Making batches of shape (nx , n) from the entire dataset where n is the size of the batch."
   ]
  },
  {
   "cell_type": "code",
   "execution_count": 12,
   "metadata": {},
   "outputs": [],
   "source": [
    "def mini_batch(X,y, size,seed):\n",
    "    import math\n",
    "    np.random.seed(seed)\n",
    "    m = X.shape[1]\n",
    "    num = math.floor(m/size)\n",
    "    permutation = list(np.random.permutation(m))\n",
    "    Xshuffled = X[:,permutation]\n",
    "    yshuffled = y[:,permutation]    \n",
    "    \n",
    "    batches = []\n",
    "    for i in range(num):\n",
    "        minibatchX = Xshuffled[:, i*size : (i+1)*size]\n",
    "        minibatchy = yshuffled[:, i*size : (i+1)*size]        \n",
    "        minibatch = minibatchX, minibatchy\n",
    "        batches.append(minibatch)\n",
    "        \n",
    "    rem = m%size\n",
    "    if rem != 0: \n",
    "        minibatchX = Xshuffled[:, -rem:]\n",
    "        minibatchy = yshuffled[:, -rem:]   \n",
    "        minibatch = minibatchX, minibatchy\n",
    "        batches.append(minibatch)\n",
    "    \n",
    "    return batches"
   ]
  },
  {
   "cell_type": "markdown",
   "metadata": {},
   "source": [
    "# Adam Optimizer"
   ]
  },
  {
   "cell_type": "markdown",
   "metadata": {},
   "source": [
    "* Initializing v and s, both v and s will have a shape similar to that of the parameters. v and s will be initialized to zero."
   ]
  },
  {
   "cell_type": "code",
   "execution_count": 13,
   "metadata": {},
   "outputs": [],
   "source": [
    "def initialize_adam(params):\n",
    "    v = {}\n",
    "    s = {}\n",
    "    L = len(params)//2\n",
    "    for l in range(1, L+1):\n",
    "        v['dW'+str(l)] = np.zeros(params['W'+str(l)].shape)\n",
    "        v['db'+str(l)] = np.zeros(params['b'+str(l)].shape)        \n",
    "\n",
    "        s['dW'+str(l)] = np.zeros(params['W'+str(l)].shape)\n",
    "        s['db'+str(l)] = np.zeros(params['b'+str(l)].shape)        \n",
    "\n",
    "    return v,s"
   ]
  },
  {
   "cell_type": "markdown",
   "metadata": {},
   "source": [
    "* Updating parameters using v and s. v_corr and s_corr is basically computed for bias correction.\n",
    "* E == epsilon to make sure we are not dividing v_corr by 0 in the parameter update step\n",
    "* t = iteration number"
   ]
  },
  {
   "cell_type": "code",
   "execution_count": 14,
   "metadata": {},
   "outputs": [],
   "source": [
    "def update_params_with_adam(params, grads, v,s, t, beta1,beta2,E,learning_rate):\n",
    "    \n",
    "    L = len(params) // 2\n",
    "    v_corr = {}\n",
    "    s_corr = {}\n",
    " \n",
    "    \n",
    "    for l in range(1,L+1):\n",
    "        v['dW'+str(l)] = v['dW'+str(l)] * beta1 + (1-beta1) * grads['dW'+str(l)]\n",
    "        v['db'+str(l)] = v['db'+str(l)] * beta1 + (1-beta1) * grads['db'+str(l)]\n",
    "        \n",
    "        v_corr['dW'+str(l)] = v['dW'+str(l)] / (1-beta1**t)\n",
    "        v_corr['db'+str(l)] = v['db'+str(l)] / (1-beta1**t)\n",
    "\n",
    "        s['dW'+str(l)] = s['dW'+str(l)] * beta2 + (1-beta2) * grads['dW'+str(l)]**2\n",
    "        s['db'+str(l)] = s['db'+str(l)] * beta2 + (1-beta2) * grads['db'+str(l)]**2\n",
    "        \n",
    "        s_corr['dW'+str(l)] = s['dW'+str(l)] / (1-beta2**t)\n",
    "        s_corr['db'+str(l)] = s['db'+str(l)] / (1-beta2**t)\n",
    "        \n",
    "        params['W'+str(l)] = params['W'+str(l)] - learning_rate * (v_corr['dW'+str(l)] / (np.sqrt(s_corr['dW'+str(l)]) +E) ) \n",
    "        params['b'+str(l)] = params['b'+str(l)] - learning_rate * (v_corr['db'+str(l)] / (np.sqrt(s_corr['db'+str(l)]) +E) ) \n",
    "        \n",
    "        \n",
    "    return params, v, s"
   ]
  },
  {
   "cell_type": "markdown",
   "metadata": {},
   "source": [
    "* Building a complex neural network model using Adam."
   ]
  },
  {
   "cell_type": "code",
   "execution_count": 15,
   "metadata": {},
   "outputs": [],
   "source": [
    "def model_adam(X, y, nodes, alpha, epoch, size=64, beta1=0.9, beta2=0.999, E = 1e-8, lambd=0, print_cost=True):\n",
    "    \n",
    "    seed = 10\n",
    "    parameters = initialize_param(nodes)\n",
    "    L = len(parameters)//2\n",
    "    m = y.shape[1]\n",
    "    t = 0\n",
    "\n",
    "    cost = []\n",
    "    for i in range(epoch+1):\n",
    "        v,s = initialize_adam(parameters)\n",
    "        seed += 1\n",
    "        # randomly shuffling the X and Y before creating batches at every epoch\n",
    "        minibatches = mini_batch(X,y,size,seed)\n",
    "        cost_total = 0\n",
    "        \n",
    "        for minibatch in minibatches:\n",
    "            (minibatchX, minibatchy) = minibatch\n",
    "            AL, caches = L_forward_propagation(minibatchX, parameters)\n",
    "            cost_total += compute_regularized_cost(AL, minibatchy, lambd, parameters)\n",
    "            grad = compute_grads(AL, minibatchy, caches,lambd)\n",
    "            t+=1\n",
    "            parameters,v,s = update_params_with_adam(parameters,grad,v,s,t,beta1,beta2,E,alpha)\n",
    "        \n",
    "        cost_avg = cost_total/m\n",
    "        \n",
    "        if print_cost==True and i % 100 == 0:\n",
    "            cost.append(cost_avg)\n",
    "            print (\"Cost after epoch {}: {}\" .format(i, cost_avg))\n",
    "            \n",
    "    return cost, parameters       "
   ]
  },
  {
   "cell_type": "markdown",
   "metadata": {},
   "source": [
    "* Evaluating our model on the image classification data."
   ]
  },
  {
   "cell_type": "code",
   "execution_count": 16,
   "metadata": {},
   "outputs": [
    {
     "name": "stdout",
     "output_type": "stream",
     "text": [
      "Cost after epoch 0: 0.014578887655420583\n",
      "Cost after epoch 100: 0.01049877686512822\n",
      "Cost after epoch 200: 0.007958520484061917\n",
      "Cost after epoch 300: 0.006046414815802909\n",
      "Cost after epoch 400: 0.004854303876526592\n",
      "Cost after epoch 500: 0.003808204557752234\n",
      "Cost after epoch 600: 0.0033193301803363753\n",
      "Cost after epoch 700: 0.0026465888098181236\n",
      "Cost after epoch 800: 0.002375950145260364\n",
      "Cost after epoch 900: 0.00224864301857638\n",
      "Cost after epoch 1000: 0.002043959158707329\n"
     ]
    }
   ],
   "source": [
    "nodes = [12288,7,1]\n",
    "\n",
    "cost1_A,weights1_A = model_adam(X_train, y_train, nodes, 0.00001,1000,lambd=0.2)"
   ]
  },
  {
   "cell_type": "code",
   "execution_count": 17,
   "metadata": {},
   "outputs": [
    {
     "name": "stdout",
     "output_type": "stream",
     "text": [
      "Accuracy achieved by Adam Optimization on the image classification data: 80%\n"
     ]
    },
    {
     "data": {
      "image/png": "[encoded data removed]",
      "text/plain": [
       "<Figure size 432x288 with 1 Axes>"
      ]
     },
     "metadata": {
      "needs_background": "light"
     },
     "output_type": "display_data"
    }
   ],
   "source": [
    "ypred = predict(weights1_A, X_test)\n",
    "accuracy_ = accuracy(y_test, ypred)\n",
    "plt.plot(cost1_A)\n",
    "plt.title('Accuracy on test data == {}'.format(accuracy_))\n",
    "print('Accuracy achieved by Adam Optimization on the image classification data: {}%'.format(np.int64(accuracy_)))"
   ]
  },
  {
   "cell_type": "markdown",
   "metadata": {},
   "source": [
    "# Saving weights"
   ]
  },
  {
   "cell_type": "code",
   "execution_count": 52,
   "metadata": {},
   "outputs": [],
   "source": [
    "np.save('weights.npy',weights1_A)"
   ]
  },
  {
   "cell_type": "code",
   "execution_count": null,
   "metadata": {},
   "outputs": [],
   "source": []
  }
 ],
 "metadata": {
  "kernelspec": {
   "display_name": "Python 3",
   "language": "python",
   "name": "python3"
  },
  "language_info": {
   "codemirror_mode": {
    "name": "ipython",
    "version": 3
   },
   "file_extension": ".py",
   "mimetype": "text/x-python",
   "name": "python",
   "nbconvert_exporter": "python",
   "pygments_lexer": "ipython3",
   "version": "3.7.6"
  }
 },
 "nbformat": 4,
 "nbformat_minor": 4
}
