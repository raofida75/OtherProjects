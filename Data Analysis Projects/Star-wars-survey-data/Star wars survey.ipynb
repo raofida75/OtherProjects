{
 "cells": [
  {
   "cell_type": "code",
   "execution_count": 18,
   "metadata": {},
   "outputs": [],
   "source": [
    "import pandas as pd\n",
    "import numpy as np\n",
    "import matplotlib.pyplot as plt"
   ]
  },
  {
   "cell_type": "code",
   "execution_count": 37,
   "metadata": {},
   "outputs": [],
   "source": [
    "df=pd.read_csv('star_wars.csv')"
   ]
  },
  {
   "cell_type": "code",
   "execution_count": 38,
   "metadata": {},
   "outputs": [],
   "source": [
    "df=df[df['RespondentID'].notna()]"
   ]
  },
  {
   "cell_type": "code",
   "execution_count": 39,
   "metadata": {},
   "outputs": [
    {
     "name": "stdout",
     "output_type": "stream",
     "text": [
      "Yes    936\n",
      "No     250\n",
      "Name: Have you seen any of the 6 films in the Star Wars franchise?, dtype: int64\n",
      "Yes    552\n",
      "No     284\n",
      "Name: Do you consider yourself to be a fan of the Star Wars film franchise?, dtype: int64\n"
     ]
    }
   ],
   "source": [
    "for i in [1,2]:\n",
    "    print(df[df.columns[i]].value_counts())"
   ]
  },
  {
   "cell_type": "code",
   "execution_count": 40,
   "metadata": {},
   "outputs": [],
   "source": [
    "def yes_nofunc(column):\n",
    "    yes_no = {'Yes':True, 'No':False}\n",
    "    df[column] = df[column].map(yes_no)\n",
    "    return df"
   ]
  },
  {
   "cell_type": "code",
   "execution_count": 41,
   "metadata": {},
   "outputs": [],
   "source": [
    "df=yes_nofunc(df.columns[1])\n",
    "df=yes_nofunc(df.columns[2])\n"
   ]
  },
  {
   "cell_type": "code",
   "execution_count": 52,
   "metadata": {},
   "outputs": [],
   "source": [
    "col3_8=['seen_'+str(i) for i in range(1,7)]"
   ]
  },
  {
   "cell_type": "code",
   "execution_count": 55,
   "metadata": {},
   "outputs": [],
   "source": [
    "df=df.rename(columns=dict(zip(df.columns[3:9], col3_8)))"
   ]
  },
  {
   "cell_type": "code",
   "execution_count": 69,
   "metadata": {},
   "outputs": [],
   "source": [
    "df[df.columns[3:9]] = df[df.columns[3:9]].notnull()"
   ]
  },
  {
   "cell_type": "code",
   "execution_count": 74,
   "metadata": {},
   "outputs": [
    {
     "data": {
      "text/plain": [
       "Index(['Please rank the Star Wars films in order of preference with 1 being your favorite film in the franchise and 6 being your least favorite film.',\n",
       "       'Unnamed: 10', 'Unnamed: 11', 'Unnamed: 12', 'Unnamed: 13',\n",
       "       'Unnamed: 14'],\n",
       "      dtype='object')"
      ]
     },
     "execution_count": 74,
     "metadata": {},
     "output_type": "execute_result"
    }
   ],
   "source": [
    "df.columns[9:15]"
   ]
  },
  {
   "cell_type": "code",
   "execution_count": 75,
   "metadata": {},
   "outputs": [],
   "source": [
    "col9_14=['ranking_'+str(i) for i in range(1,7)]"
   ]
  },
  {
   "cell_type": "code",
   "execution_count": 78,
   "metadata": {},
   "outputs": [],
   "source": [
    "df=df.rename(columns=dict(zip(df.columns[9:15], col9_14)))"
   ]
  },
  {
   "cell_type": "code",
   "execution_count": 84,
   "metadata": {},
   "outputs": [],
   "source": [
    "rankings = df[df.columns[9:15]]"
   ]
  },
  {
   "cell_type": "code",
   "execution_count": 96,
   "metadata": {},
   "outputs": [],
   "source": [
    "rankings = rankings.fillna(0)\n"
   ]
  },
  {
   "cell_type": "code",
   "execution_count": 116,
   "metadata": {},
   "outputs": [],
   "source": [
    "rankings = rankings.astype('int')"
   ]
  },
  {
   "cell_type": "code",
   "execution_count": 122,
   "metadata": {},
   "outputs": [],
   "source": [
    "avg_movieratings = pd.DataFrame([(i,rankings[rankings[i]!=0][i].mean()) for i in rankings.columns], columns=['movie#','avg_rating'])"
   ]
  },
  {
   "cell_type": "code",
   "execution_count": 210,
   "metadata": {},
   "outputs": [
    {
     "data": {
      "image/png": "[encoded data removed]",
      "text/plain": [
       "<Figure size 432x288 with 1 Axes>"
      ]
     },
     "metadata": {
      "needs_background": "light"
     },
     "output_type": "display_data"
    }
   ],
   "source": [
    "# avg_movieratings['avg_rating'].plot.bar()\n",
    "epi = ['EP I', 'EP II', 'EP III', 'EP IV', 'EP V', 'EP VI']\n",
    "plt.bar(epi,avg_movieratings['avg_rating'])\n",
    "ax = plt.gca()\n",
    "ax.set_ylabel('Avg ratings')\n",
    "ax.set_xlabel('Star wars espisodes');\n"
   ]
  },
  {
   "cell_type": "code",
   "execution_count": 140,
   "metadata": {},
   "outputs": [],
   "source": [
    "views = pd.DataFrame([(i,df[i].sum()) for i in df.columns[3:9]], columns=['movie#', 'no. of views'])"
   ]
  },
  {
   "cell_type": "code",
   "execution_count": 141,
   "metadata": {},
   "outputs": [
    {
     "data": {
      "image/png": "[encoded data removed]",
      "text/plain": [
       "<Figure size 432x288 with 1 Axes>"
      ]
     },
     "metadata": {
      "needs_background": "light"
     },
     "output_type": "display_data"
    }
   ],
   "source": [
    "plt.bar(epi,views['no. of views'])\n",
    "ax = plt.gca()\n",
    "ax.set_ylabel('No. of views')\n",
    "ax.set_xlabel('Star wars espisodes');"
   ]
  },
  {
   "cell_type": "markdown",
   "metadata": {},
   "source": [
    "# STAR WAR FANS"
   ]
  },
  {
   "cell_type": "code",
   "execution_count": 145,
   "metadata": {},
   "outputs": [],
   "source": [
    "df[df.columns[2]] = df[df.columns[2]].fillna(False)"
   ]
  },
  {
   "cell_type": "code",
   "execution_count": 184,
   "metadata": {},
   "outputs": [],
   "source": [
    "updateddf = pd.merge(df[df.columns[2:9]], rankings, on=df.index).set_index('key_0')"
   ]
  },
  {
   "cell_type": "code",
   "execution_count": 185,
   "metadata": {},
   "outputs": [],
   "source": [
    "starwar_fans = updateddf[updateddf[updateddf.columns[0]]==True]\n",
    "rest = updateddf[updateddf[updateddf.columns[0]]==False]"
   ]
  },
  {
   "cell_type": "code",
   "execution_count": 188,
   "metadata": {},
   "outputs": [],
   "source": [
    "view_list = []\n",
    "for j in [starwar_fans, rest]:\n",
    "    view_list.append([j[i].sum() for i in j.columns[1:7]])"
   ]
  },
  {
   "cell_type": "code",
   "execution_count": 189,
   "metadata": {},
   "outputs": [
    {
     "data": {
      "text/plain": [
       "[[500, 463, 450, 483, 538, 537], [173, 108, 100, 124, 220, 201]]"
      ]
     },
     "execution_count": 189,
     "metadata": {},
     "output_type": "execute_result"
    }
   ],
   "source": [
    "view_list"
   ]
  },
  {
   "cell_type": "code",
   "execution_count": 209,
   "metadata": {},
   "outputs": [],
   "source": [
    "rating_list = []\n",
    "for j in [starwar_fans, rest]:\n",
    "    rating_list.append([j[j[i]!=0][i].mean() for i in j.columns[7:]])"
   ]
  },
  {
   "cell_type": "code",
   "execution_count": 278,
   "metadata": {},
   "outputs": [
    {
     "data": {
      "image/png": "[encoded data removed]",
      "text/plain": [
       "<Figure size 720x432 with 4 Axes>"
      ]
     },
     "metadata": {
      "needs_background": "light"
     },
     "output_type": "display_data"
    }
   ],
   "source": [
    "\n",
    "fig, ((ax1, ax2), (ax3, ax4))=plt.subplots(2,2,  figsize=(10,6))\n",
    "\n",
    "\n",
    "bar1 = ax1.bar(epi , rating_list[0])\n",
    "ax1.set_title('Ratings for star war fans')\n",
    "\n",
    "bar2 = ax2.bar(epi , rating_list[1])\n",
    "ax2.set_title('Ratings for rest of the viewers')\n",
    "\n",
    "bar3=ax3.bar(epi , view_list[0])\n",
    "ax3.set_title('Views by star war fans')\n",
    "bar4 = ax4.bar(epi , view_list[1])\n",
    "ax4.set_title('Views by rest')\n",
    "\n",
    "\n",
    "\n",
    "\n",
    "x=[(bar1,ax1,1),(bar2,ax2,1),(bar3,ax3,50),(bar4,ax4,50)]\n",
    "\n",
    "for i in x:\n",
    "    for bar in i[0]:\n",
    "\n",
    "        height = bar.get_height()\n",
    "        i[1].text(bar.get_x() + bar.get_width()/2, bar.get_height()-(1*i[2]) , str(int(height)), \n",
    "                     ha='center', color='w', fontsize=11)\n",
    "\n",
    "        \n",
    "        \n",
    "    i[1].set_yticks([])\n",
    "    for spine in i[1].spines.values():\n",
    "        spine.set_visible(False)\n",
    "\n",
    "    \n",
    "    i[0][np.argmax([bar.get_height() for bar in i[0]])].set_color('grey')\n",
    "    \n",
    "    \n",
    "    \n",
    "plt.tight_layout()\n"
   ]
  },
  {
   "cell_type": "code",
   "execution_count": null,
   "metadata": {},
   "outputs": [],
   "source": []
  }
 ],
 "metadata": {
  "kernelspec": {
   "display_name": "Python 3",
   "language": "python",
   "name": "python3"
  },
  "language_info": {
   "codemirror_mode": {
    "name": "ipython",
    "version": 3
   },
   "file_extension": ".py",
   "mimetype": "text/x-python",
   "name": "python",
   "nbconvert_exporter": "python",
   "pygments_lexer": "ipython3",
   "version": "3.7.6"
  }
 },
 "nbformat": 4,
 "nbformat_minor": 4
}
