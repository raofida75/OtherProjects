{
 "cells": [
  {
   "cell_type": "code",
   "execution_count": 1,
   "metadata": {},
   "outputs": [],
   "source": [
    "import pandas as pd\n",
    "import numpy as np\n",
    "import matplotlib.pyplot as plt\n",
    "import seaborn as sns\n",
    "import matplotlib\n",
    "matplotlib.rcParams['figure.figsize']=12,6"
   ]
  },
  {
   "cell_type": "code",
   "execution_count": 2,
   "metadata": {},
   "outputs": [],
   "source": [
    "import warnings\n",
    "warnings.filterwarnings('ignore')"
   ]
  },
  {
   "cell_type": "code",
   "execution_count": 3,
   "metadata": {},
   "outputs": [],
   "source": [
    "df=pd.read_csv('cleaned_data.csv', index_col=0)"
   ]
  },
  {
   "cell_type": "code",
   "execution_count": 4,
   "metadata": {},
   "outputs": [
    {
     "data": {
      "text/html": [
       "<div>\n",
       "<style scoped>\n",
       "    .dataframe tbody tr th:only-of-type {\n",
       "        vertical-align: middle;\n",
       "    }\n",
       "\n",
       "    .dataframe tbody tr th {\n",
       "        vertical-align: top;\n",
       "    }\n",
       "\n",
       "    .dataframe thead th {\n",
       "        text-align: right;\n",
       "    }\n",
       "</style>\n",
       "<table border=\"1\" class=\"dataframe\">\n",
       "  <thead>\n",
       "    <tr style=\"text-align: right;\">\n",
       "      <th></th>\n",
       "      <th>Directed by</th>\n",
       "      <th>Produced by</th>\n",
       "      <th>Written by</th>\n",
       "      <th>Based on</th>\n",
       "      <th>Starring</th>\n",
       "      <th>Music by</th>\n",
       "      <th>Distributed by</th>\n",
       "      <th>Story by</th>\n",
       "      <th>Narrated by</th>\n",
       "      <th>Cinematography</th>\n",
       "      <th>...</th>\n",
       "      <th>Vietnamese</th>\n",
       "      <th>Icelandic</th>\n",
       "      <th>Scots</th>\n",
       "      <th>Irish</th>\n",
       "      <th>English</th>\n",
       "      <th>Gaelic</th>\n",
       "      <th>Hindi</th>\n",
       "      <th>Norwegian</th>\n",
       "      <th>Chinese</th>\n",
       "      <th>country1</th>\n",
       "    </tr>\n",
       "  </thead>\n",
       "  <tbody>\n",
       "    <tr>\n",
       "      <th>Academy Award Review of Walt Disney Cartoons</th>\n",
       "      <td>NaN</td>\n",
       "      <td>NaN</td>\n",
       "      <td>NaN</td>\n",
       "      <td>NaN</td>\n",
       "      <td>NaN</td>\n",
       "      <td>NaN</td>\n",
       "      <td>NaN</td>\n",
       "      <td>NaN</td>\n",
       "      <td>NaN</td>\n",
       "      <td>NaN</td>\n",
       "      <td>...</td>\n",
       "      <td>0</td>\n",
       "      <td>0</td>\n",
       "      <td>0</td>\n",
       "      <td>0</td>\n",
       "      <td>1</td>\n",
       "      <td>0</td>\n",
       "      <td>0</td>\n",
       "      <td>0</td>\n",
       "      <td>0</td>\n",
       "      <td>United States</td>\n",
       "    </tr>\n",
       "    <tr>\n",
       "      <th>Snow White and the Seven Dwarfs</th>\n",
       "      <td>['David Hand (supervising)', 'William Cottrell...</td>\n",
       "      <td>Walt Disney</td>\n",
       "      <td>['Ted Sears', 'Richard Creedon', 'Otto England...</td>\n",
       "      <td>Snow Whiteby The Brothers Grimm</td>\n",
       "      <td>['Adriana Caselotti', 'Lucille La Verne', 'Har...</td>\n",
       "      <td>['Frank Churchill', 'Paul Smith', 'Leigh Harli...</td>\n",
       "      <td>RKO Radio Pictures</td>\n",
       "      <td>NaN</td>\n",
       "      <td>NaN</td>\n",
       "      <td>NaN</td>\n",
       "      <td>...</td>\n",
       "      <td>0</td>\n",
       "      <td>0</td>\n",
       "      <td>0</td>\n",
       "      <td>0</td>\n",
       "      <td>1</td>\n",
       "      <td>0</td>\n",
       "      <td>0</td>\n",
       "      <td>0</td>\n",
       "      <td>0</td>\n",
       "      <td>United States</td>\n",
       "    </tr>\n",
       "    <tr>\n",
       "      <th>Pinocchio</th>\n",
       "      <td>['Ben Sharpsteen', 'Hamilton Luske', 'Bill Rob...</td>\n",
       "      <td>Walt Disney</td>\n",
       "      <td>NaN</td>\n",
       "      <td>The Adventures of Pinocchioby Carlo Collodi</td>\n",
       "      <td>['Cliff Edwards', 'Dickie Jones', 'Christian R...</td>\n",
       "      <td>['Leigh Harline', 'Paul J. Smith']</td>\n",
       "      <td>RKO Radio Pictures</td>\n",
       "      <td>['Ted Sears', 'Otto Englander', 'Webb Smith', ...</td>\n",
       "      <td>NaN</td>\n",
       "      <td>NaN</td>\n",
       "      <td>...</td>\n",
       "      <td>0</td>\n",
       "      <td>0</td>\n",
       "      <td>0</td>\n",
       "      <td>0</td>\n",
       "      <td>1</td>\n",
       "      <td>0</td>\n",
       "      <td>0</td>\n",
       "      <td>0</td>\n",
       "      <td>0</td>\n",
       "      <td>United States</td>\n",
       "    </tr>\n",
       "    <tr>\n",
       "      <th>Fantasia</th>\n",
       "      <td>['Samuel Armstrong', 'James Algar', 'Bill Robe...</td>\n",
       "      <td>['Walt Disney', 'Ben Sharpsteen']</td>\n",
       "      <td>NaN</td>\n",
       "      <td>NaN</td>\n",
       "      <td>['Leopold Stokowski', 'Deems Taylor']</td>\n",
       "      <td>See program</td>\n",
       "      <td>['Walt Disney Productions', 'RKO Radio Pictures']</td>\n",
       "      <td>['Joe Grant', 'Dick Huemer']</td>\n",
       "      <td>Deems Taylor</td>\n",
       "      <td>James Wong Howe</td>\n",
       "      <td>...</td>\n",
       "      <td>0</td>\n",
       "      <td>0</td>\n",
       "      <td>0</td>\n",
       "      <td>0</td>\n",
       "      <td>1</td>\n",
       "      <td>0</td>\n",
       "      <td>0</td>\n",
       "      <td>0</td>\n",
       "      <td>0</td>\n",
       "      <td>United States</td>\n",
       "    </tr>\n",
       "    <tr>\n",
       "      <th>The Reluctant Dragon</th>\n",
       "      <td>Alfred Werker (live action)Hamilton Luske (ani...</td>\n",
       "      <td>Walt Disney</td>\n",
       "      <td>Live-action:Ted SearsAl PerkinsLarry ClemmonsB...</td>\n",
       "      <td>NaN</td>\n",
       "      <td>Robert BenchleyFrances GiffordBuddy PepperNana...</td>\n",
       "      <td>Frank ChurchillLarry Morey</td>\n",
       "      <td>RKO Radio Pictures</td>\n",
       "      <td>NaN</td>\n",
       "      <td>NaN</td>\n",
       "      <td>Bert Giennon</td>\n",
       "      <td>...</td>\n",
       "      <td>0</td>\n",
       "      <td>0</td>\n",
       "      <td>0</td>\n",
       "      <td>0</td>\n",
       "      <td>1</td>\n",
       "      <td>0</td>\n",
       "      <td>0</td>\n",
       "      <td>0</td>\n",
       "      <td>0</td>\n",
       "      <td>United States</td>\n",
       "    </tr>\n",
       "  </tbody>\n",
       "</table>\n",
       "<p>5 rows × 39 columns</p>\n",
       "</div>"
      ],
      "text/plain": [
       "                                                                                    Directed by  \\\n",
       "Academy Award Review of Walt Disney Cartoons                                                NaN   \n",
       "Snow White and the Seven Dwarfs               ['David Hand (supervising)', 'William Cottrell...   \n",
       "Pinocchio                                     ['Ben Sharpsteen', 'Hamilton Luske', 'Bill Rob...   \n",
       "Fantasia                                      ['Samuel Armstrong', 'James Algar', 'Bill Robe...   \n",
       "The Reluctant Dragon                          Alfred Werker (live action)Hamilton Luske (ani...   \n",
       "\n",
       "                                                                    Produced by  \\\n",
       "Academy Award Review of Walt Disney Cartoons                                NaN   \n",
       "Snow White and the Seven Dwarfs                                     Walt Disney   \n",
       "Pinocchio                                                           Walt Disney   \n",
       "Fantasia                                      ['Walt Disney', 'Ben Sharpsteen']   \n",
       "The Reluctant Dragon                                                Walt Disney   \n",
       "\n",
       "                                                                                     Written by  \\\n",
       "Academy Award Review of Walt Disney Cartoons                                                NaN   \n",
       "Snow White and the Seven Dwarfs               ['Ted Sears', 'Richard Creedon', 'Otto England...   \n",
       "Pinocchio                                                                                   NaN   \n",
       "Fantasia                                                                                    NaN   \n",
       "The Reluctant Dragon                          Live-action:Ted SearsAl PerkinsLarry ClemmonsB...   \n",
       "\n",
       "                                                                                 Based on  \\\n",
       "Academy Award Review of Walt Disney Cartoons                                          NaN   \n",
       "Snow White and the Seven Dwarfs                           Snow Whiteby The Brothers Grimm   \n",
       "Pinocchio                                     The Adventures of Pinocchioby Carlo Collodi   \n",
       "Fantasia                                                                              NaN   \n",
       "The Reluctant Dragon                                                                  NaN   \n",
       "\n",
       "                                                                                       Starring  \\\n",
       "Academy Award Review of Walt Disney Cartoons                                                NaN   \n",
       "Snow White and the Seven Dwarfs               ['Adriana Caselotti', 'Lucille La Verne', 'Har...   \n",
       "Pinocchio                                     ['Cliff Edwards', 'Dickie Jones', 'Christian R...   \n",
       "Fantasia                                                  ['Leopold Stokowski', 'Deems Taylor']   \n",
       "The Reluctant Dragon                          Robert BenchleyFrances GiffordBuddy PepperNana...   \n",
       "\n",
       "                                                                                       Music by  \\\n",
       "Academy Award Review of Walt Disney Cartoons                                                NaN   \n",
       "Snow White and the Seven Dwarfs               ['Frank Churchill', 'Paul Smith', 'Leigh Harli...   \n",
       "Pinocchio                                                    ['Leigh Harline', 'Paul J. Smith']   \n",
       "Fantasia                                                                            See program   \n",
       "The Reluctant Dragon                                                 Frank ChurchillLarry Morey   \n",
       "\n",
       "                                                                                 Distributed by  \\\n",
       "Academy Award Review of Walt Disney Cartoons                                                NaN   \n",
       "Snow White and the Seven Dwarfs                                              RKO Radio Pictures   \n",
       "Pinocchio                                                                    RKO Radio Pictures   \n",
       "Fantasia                                      ['Walt Disney Productions', 'RKO Radio Pictures']   \n",
       "The Reluctant Dragon                                                         RKO Radio Pictures   \n",
       "\n",
       "                                                                                       Story by  \\\n",
       "Academy Award Review of Walt Disney Cartoons                                                NaN   \n",
       "Snow White and the Seven Dwarfs                                                             NaN   \n",
       "Pinocchio                                     ['Ted Sears', 'Otto Englander', 'Webb Smith', ...   \n",
       "Fantasia                                                           ['Joe Grant', 'Dick Huemer']   \n",
       "The Reluctant Dragon                                                                        NaN   \n",
       "\n",
       "                                               Narrated by   Cinematography  \\\n",
       "Academy Award Review of Walt Disney Cartoons           NaN              NaN   \n",
       "Snow White and the Seven Dwarfs                        NaN              NaN   \n",
       "Pinocchio                                              NaN              NaN   \n",
       "Fantasia                                      Deems Taylor  James Wong Howe   \n",
       "The Reluctant Dragon                                   NaN     Bert Giennon   \n",
       "\n",
       "                                              ... Vietnamese Icelandic Scots  \\\n",
       "Academy Award Review of Walt Disney Cartoons  ...          0         0     0   \n",
       "Snow White and the Seven Dwarfs               ...          0         0     0   \n",
       "Pinocchio                                     ...          0         0     0   \n",
       "Fantasia                                      ...          0         0     0   \n",
       "The Reluctant Dragon                          ...          0         0     0   \n",
       "\n",
       "                                             Irish  English  Gaelic  Hindi  \\\n",
       "Academy Award Review of Walt Disney Cartoons     0        1       0      0   \n",
       "Snow White and the Seven Dwarfs                  0        1       0      0   \n",
       "Pinocchio                                        0        1       0      0   \n",
       "Fantasia                                         0        1       0      0   \n",
       "The Reluctant Dragon                             0        1       0      0   \n",
       "\n",
       "                                              Norwegian  Chinese  \\\n",
       "Academy Award Review of Walt Disney Cartoons          0        0   \n",
       "Snow White and the Seven Dwarfs                       0        0   \n",
       "Pinocchio                                             0        0   \n",
       "Fantasia                                              0        0   \n",
       "The Reluctant Dragon                                  0        0   \n",
       "\n",
       "                                                   country1  \n",
       "Academy Award Review of Walt Disney Cartoons  United States  \n",
       "Snow White and the Seven Dwarfs               United States  \n",
       "Pinocchio                                     United States  \n",
       "Fantasia                                      United States  \n",
       "The Reluctant Dragon                          United States  \n",
       "\n",
       "[5 rows x 39 columns]"
      ]
     },
     "execution_count": 4,
     "metadata": {},
     "output_type": "execute_result"
    }
   ],
   "source": [
    "df.head()"
   ]
  },
  {
   "cell_type": "code",
   "execution_count": 5,
   "metadata": {},
   "outputs": [
    {
     "name": "stdout",
     "output_type": "stream",
     "text": [
      "<class 'pandas.core.frame.DataFrame'>\n",
      "Index: 421 entries, Academy Award Review of Walt Disney Cartoons to Mulan\n",
      "Data columns (total 39 columns):\n",
      " #   Column              Non-Null Count  Dtype  \n",
      "---  ------              --------------  -----  \n",
      " 0   Directed by         416 non-null    object \n",
      " 1   Produced by         411 non-null    object \n",
      " 2   Written by          198 non-null    object \n",
      " 3   Based on            206 non-null    object \n",
      " 4   Starring            388 non-null    object \n",
      " 5   Music by            413 non-null    object \n",
      " 6   Distributed by      418 non-null    object \n",
      " 7   Story by            136 non-null    object \n",
      " 8   Narrated by         53 non-null     object \n",
      " 9   Cinematography      335 non-null    object \n",
      " 10  Edited by           387 non-null    object \n",
      " 11  Screenplay by       185 non-null    object \n",
      " 12  production_company  420 non-null    object \n",
      " 13  release_date        420 non-null    object \n",
      " 14  running_time        417 non-null    float64\n",
      " 15  budget              273 non-null    float64\n",
      " 16  box_office          358 non-null    float64\n",
      " 17  Russian             421 non-null    int64  \n",
      " 18  Spanish             421 non-null    int64  \n",
      " 19  Swedish             421 non-null    int64  \n",
      " 20  Telugu              421 non-null    int64  \n",
      " 21  Luganda             421 non-null    int64  \n",
      " 22  Portuguese          421 non-null    int64  \n",
      " 23  German              421 non-null    int64  \n",
      " 24  Italian             421 non-null    int64  \n",
      " 25  French              421 non-null    int64  \n",
      " 26  Inuktitut           421 non-null    int64  \n",
      " 27  Danish              421 non-null    int64  \n",
      " 28  Mandarin            421 non-null    int64  \n",
      " 29  Vietnamese          421 non-null    int64  \n",
      " 30  Icelandic           421 non-null    int64  \n",
      " 31  Scots               421 non-null    int64  \n",
      " 32  Irish               421 non-null    int64  \n",
      " 33  English             421 non-null    int64  \n",
      " 34  Gaelic              421 non-null    int64  \n",
      " 35  Hindi               421 non-null    int64  \n",
      " 36  Norwegian           421 non-null    int64  \n",
      " 37  Chinese             421 non-null    int64  \n",
      " 38  country1            417 non-null    object \n",
      "dtypes: float64(3), int64(21), object(15)\n",
      "memory usage: 131.6+ KB\n"
     ]
    }
   ],
   "source": [
    "df.info()"
   ]
  },
  {
   "cell_type": "code",
   "execution_count": 6,
   "metadata": {},
   "outputs": [],
   "source": [
    "df1 = df.iloc[:,12:] # working only with the columns after release date"
   ]
  },
  {
   "cell_type": "markdown",
   "metadata": {},
   "source": [
    "# Adding extra month and a year column"
   ]
  },
  {
   "cell_type": "code",
   "execution_count": 7,
   "metadata": {},
   "outputs": [],
   "source": [
    "df1['release_date'] = pd.to_datetime(df1['release_date'])"
   ]
  },
  {
   "cell_type": "code",
   "execution_count": 8,
   "metadata": {},
   "outputs": [],
   "source": [
    "df1['month_of_release'] = df1['release_date'].dt.month\n",
    "df1['year_of_release'] = df1['release_date'].dt.year"
   ]
  },
  {
   "cell_type": "markdown",
   "metadata": {},
   "source": [
    "# Exploring which month has been most profitable"
   ]
  },
  {
   "cell_type": "code",
   "execution_count": 9,
   "metadata": {},
   "outputs": [
    {
     "data": {
      "image/png": "[encoded data removed]",
      "text/plain": [
       "<Figure size 864x432 with 1 Axes>"
      ]
     },
     "metadata": {
      "needs_background": "light"
     },
     "output_type": "display_data"
    }
   ],
   "source": [
    "plt.bar(range(1,13), df1.groupby('month_of_release').mean()['box_office'])\n",
    "plt.title('Average Box office collection by month of release')\n",
    "plt.xlabel('Month')\n",
    "plt.ylabel('Average Box Office Collection (1^8)');"
   ]
  },
  {
   "cell_type": "markdown",
   "metadata": {},
   "source": [
    "# Exploring Box Office Collection by the number of languages it was released in"
   ]
  },
  {
   "cell_type": "code",
   "execution_count": 10,
   "metadata": {},
   "outputs": [],
   "source": [
    "lang = df1.iloc[:,5:26]"
   ]
  },
  {
   "cell_type": "code",
   "execution_count": 11,
   "metadata": {},
   "outputs": [],
   "source": [
    "df1['no_of_langs'] = lang.apply(lambda x:x.sum(), axis=1)"
   ]
  },
  {
   "cell_type": "code",
   "execution_count": 12,
   "metadata": {},
   "outputs": [
    {
     "data": {
      "text/plain": [
       "1    402\n",
       "2     13\n",
       "5      2\n",
       "3      2\n",
       "0      2\n",
       "Name: no_of_langs, dtype: int64"
      ]
     },
     "execution_count": 12,
     "metadata": {},
     "output_type": "execute_result"
    }
   ],
   "source": [
    "df1['no_of_langs'].value_counts()"
   ]
  },
  {
   "cell_type": "code",
   "execution_count": 13,
   "metadata": {},
   "outputs": [
    {
     "data": {
      "text/plain": [
       "<matplotlib.axes._subplots.AxesSubplot at 0x1aee962ab08>"
      ]
     },
     "execution_count": 13,
     "metadata": {},
     "output_type": "execute_result"
    },
    {
     "data": {
      "image/png": "[encoded data removed]",
      "text/plain": [
       "<Figure size 864x432 with 1 Axes>"
      ]
     },
     "metadata": {
      "needs_background": "light"
     },
     "output_type": "display_data"
    }
   ],
   "source": [
    "sns.scatterplot(df1['year_of_release'], df1['box_office'], hue=df1['no_of_langs'], palette='viridis')"
   ]
  },
  {
   "cell_type": "markdown",
   "metadata": {},
   "source": [
    "# Budget and Box office"
   ]
  },
  {
   "cell_type": "code",
   "execution_count": 14,
   "metadata": {},
   "outputs": [
    {
     "data": {
      "image/png": "[encoded data removed]",
      "text/plain": [
       "<Figure size 864x432 with 2 Axes>"
      ]
     },
     "metadata": {
      "needs_background": "light"
     },
     "output_type": "display_data"
    }
   ],
   "source": [
    "sns.heatmap(df1[['budget', 'box_office']].corr(), annot=True, cmap='viridis')\n",
    "plt.title('Correlation between Budget and the Box office collections');"
   ]
  },
  {
   "cell_type": "code",
   "execution_count": 15,
   "metadata": {},
   "outputs": [
    {
     "data": {
      "text/plain": [
       "<seaborn.axisgrid.JointGrid at 0x1aee9992888>"
      ]
     },
     "execution_count": 15,
     "metadata": {},
     "output_type": "execute_result"
    },
    {
     "data": {
      "image/png": "[encoded data removed]",
      "text/plain": [
       "<Figure size 432x432 with 3 Axes>"
      ]
     },
     "metadata": {
      "needs_background": "light"
     },
     "output_type": "display_data"
    }
   ],
   "source": [
    "# looks like budget and box office are highly correlated with each other\n",
    "sns.jointplot(df1['budget'], df1['box_office'], color='r')"
   ]
  },
  {
   "cell_type": "markdown",
   "metadata": {},
   "source": [
    "# running time with budget and box_office"
   ]
  },
  {
   "cell_type": "code",
   "execution_count": 16,
   "metadata": {},
   "outputs": [
    {
     "data": {
      "text/plain": [
       "<matplotlib.axes._subplots.AxesSubplot at 0x1aee9c12508>"
      ]
     },
     "execution_count": 16,
     "metadata": {},
     "output_type": "execute_result"
    },
    {
     "data": {
      "image/png": "[encoded data removed]",
      "text/plain": [
       "<Figure size 864x432 with 2 Axes>"
      ]
     },
     "metadata": {
      "needs_background": "light"
     },
     "output_type": "display_data"
    }
   ],
   "source": [
    "sns.heatmap(df1[['running_time', 'budget', 'box_office']].corr(), annot=True, cmap='viridis')\n"
   ]
  },
  {
   "cell_type": "code",
   "execution_count": 17,
   "metadata": {},
   "outputs": [
    {
     "data": {
      "image/png": "[encoded data removed]",
      "text/plain": [
       "<Figure size 864x432 with 1 Axes>"
      ]
     },
     "metadata": {
      "needs_background": "light"
     },
     "output_type": "display_data"
    }
   ],
   "source": [
    "sns.scatterplot('running_time', 'budget', data=df1, color='g');"
   ]
  },
  {
   "cell_type": "code",
   "execution_count": 18,
   "metadata": {},
   "outputs": [
    {
     "data": {
      "image/png": "[encoded data removed]",
      "text/plain": [
       "<Figure size 864x432 with 1 Axes>"
      ]
     },
     "metadata": {
      "needs_background": "light"
     },
     "output_type": "display_data"
    }
   ],
   "source": [
    "sns.scatterplot('running_time', 'box_office', data=df1, color='g');\n",
    "# 100 - 120 minutes movies are most successful"
   ]
  },
  {
   "cell_type": "code",
   "execution_count": null,
   "metadata": {},
   "outputs": [],
   "source": []
  },
  {
   "cell_type": "markdown",
   "metadata": {},
   "source": [
    "# Revenue generated for each movie"
   ]
  },
  {
   "cell_type": "code",
   "execution_count": 20,
   "metadata": {},
   "outputs": [],
   "source": [
    "df1['revenue'] = df1[['budget', 'box_office']].apply(lambda x: x[1] - x[0], axis=1)"
   ]
  },
  {
   "cell_type": "markdown",
   "metadata": {},
   "source": [
    "# Top 20 most successful movies"
   ]
  },
  {
   "cell_type": "code",
   "execution_count": 21,
   "metadata": {},
   "outputs": [
    {
     "data": {
      "text/plain": [
       "['The Lion King',\n",
       " 'Frozen II',\n",
       " 'Frozen',\n",
       " 'Beauty and the Beast',\n",
       " 'Incredibles 2',\n",
       " 'The Lion King',\n",
       " 'Alice in Wonderland',\n",
       " 'Zootopia',\n",
       " 'Toy Story 4',\n",
       " 'Aladdin',\n",
       " 'Toy Story 3',\n",
       " 'Finding Dory',\n",
       " 'Finding Nemo',\n",
       " \"Pirates of the Caribbean:  Dead Man's Chest\",\n",
       " 'The Jungle Book',\n",
       " 'Inside Out',\n",
       " \"Pirates of the Caribbean:  At World's End\",\n",
       " 'Pirates of the Caribbean:On Stranger Tides',\n",
       " 'Coco',\n",
       " 'Maleficent']"
      ]
     },
     "execution_count": 21,
     "metadata": {},
     "output_type": "execute_result"
    }
   ],
   "source": [
    "list(df1.sort_values(by=['revenue'], ascending=False).iloc[:20].index)"
   ]
  },
  {
   "cell_type": "markdown",
   "metadata": {},
   "source": [
    "# List of 20 greatest flops "
   ]
  },
  {
   "cell_type": "code",
   "execution_count": 22,
   "metadata": {},
   "outputs": [
    {
     "data": {
      "text/plain": [
       "['Mulan',\n",
       " 'Mars Needs Moms',\n",
       " 'Shipwrecked',\n",
       " 'Mighty Joe Young',\n",
       " 'Around the World in 80 Days',\n",
       " 'Treasure Planet',\n",
       " 'Onward',\n",
       " 'My Favorite Martian',\n",
       " 'John Carter',\n",
       " 'Anaganaga O Dheerudu',\n",
       " 'Tall Tale',\n",
       " 'Meet the Deedles',\n",
       " 'The Finest Hours',\n",
       " \"I'll Be Home for Christmas\",\n",
       " 'The Country Bears',\n",
       " 'Return to Oz',\n",
       " 'Newsies',\n",
       " 'Something Wicked This Way Comes',\n",
       " 'The Greatest Game Ever Played',\n",
       " 'James and the Giant Peach']"
      ]
     },
     "execution_count": 22,
     "metadata": {},
     "output_type": "execute_result"
    }
   ],
   "source": [
    "list_by_flops = df1[['budget', 'box_office']].apply(lambda x: x[0]-x[1], axis=1)\n",
    "list(list_by_flops.sort_values(ascending=False).iloc[:20].index)"
   ]
  },
  {
   "cell_type": "markdown",
   "metadata": {},
   "source": [
    "# Stats of  successful and flop films"
   ]
  },
  {
   "cell_type": "code",
   "execution_count": 23,
   "metadata": {},
   "outputs": [],
   "source": [
    "sort_by_revenue = df1.sort_values(by=['revenue'], ascending=False)"
   ]
  },
  {
   "cell_type": "code",
   "execution_count": 24,
   "metadata": {},
   "outputs": [
    {
     "data": {
      "text/html": [
       "<div>\n",
       "<style scoped>\n",
       "    .dataframe tbody tr th:only-of-type {\n",
       "        vertical-align: middle;\n",
       "    }\n",
       "\n",
       "    .dataframe tbody tr th {\n",
       "        vertical-align: top;\n",
       "    }\n",
       "\n",
       "    .dataframe thead th {\n",
       "        text-align: right;\n",
       "    }\n",
       "</style>\n",
       "<table border=\"1\" class=\"dataframe\">\n",
       "  <thead>\n",
       "    <tr style=\"text-align: right;\">\n",
       "      <th></th>\n",
       "      <th>running_time</th>\n",
       "      <th>budget</th>\n",
       "      <th>box_office</th>\n",
       "      <th>Russian</th>\n",
       "      <th>Spanish</th>\n",
       "      <th>Swedish</th>\n",
       "      <th>Telugu</th>\n",
       "      <th>Luganda</th>\n",
       "      <th>Portuguese</th>\n",
       "      <th>German</th>\n",
       "      <th>...</th>\n",
       "      <th>Irish</th>\n",
       "      <th>English</th>\n",
       "      <th>Gaelic</th>\n",
       "      <th>Hindi</th>\n",
       "      <th>Norwegian</th>\n",
       "      <th>Chinese</th>\n",
       "      <th>month_of_release</th>\n",
       "      <th>year_of_release</th>\n",
       "      <th>no_of_langs</th>\n",
       "      <th>revenue</th>\n",
       "    </tr>\n",
       "  </thead>\n",
       "  <tbody>\n",
       "    <tr>\n",
       "      <th>count</th>\n",
       "      <td>226.000000</td>\n",
       "      <td>2.260000e+02</td>\n",
       "      <td>2.260000e+02</td>\n",
       "      <td>226.000000</td>\n",
       "      <td>226.0</td>\n",
       "      <td>226.000000</td>\n",
       "      <td>226.0</td>\n",
       "      <td>226.0</td>\n",
       "      <td>226.0</td>\n",
       "      <td>226.0</td>\n",
       "      <td>...</td>\n",
       "      <td>226.0</td>\n",
       "      <td>226.000000</td>\n",
       "      <td>226.0</td>\n",
       "      <td>226.000000</td>\n",
       "      <td>226.000000</td>\n",
       "      <td>226.0</td>\n",
       "      <td>226.000000</td>\n",
       "      <td>226.000000</td>\n",
       "      <td>226.000000</td>\n",
       "      <td>2.260000e+02</td>\n",
       "    </tr>\n",
       "    <tr>\n",
       "      <th>mean</th>\n",
       "      <td>99.814159</td>\n",
       "      <td>6.732445e+07</td>\n",
       "      <td>2.602731e+08</td>\n",
       "      <td>0.004425</td>\n",
       "      <td>0.0</td>\n",
       "      <td>0.004425</td>\n",
       "      <td>0.0</td>\n",
       "      <td>0.0</td>\n",
       "      <td>0.0</td>\n",
       "      <td>0.0</td>\n",
       "      <td>...</td>\n",
       "      <td>0.0</td>\n",
       "      <td>0.973451</td>\n",
       "      <td>0.0</td>\n",
       "      <td>0.008850</td>\n",
       "      <td>0.004425</td>\n",
       "      <td>0.0</td>\n",
       "      <td>7.004425</td>\n",
       "      <td>1996.977876</td>\n",
       "      <td>1.039823</td>\n",
       "      <td>1.929486e+08</td>\n",
       "    </tr>\n",
       "    <tr>\n",
       "      <th>std</th>\n",
       "      <td>19.665220</td>\n",
       "      <td>7.261396e+07</td>\n",
       "      <td>3.161839e+08</td>\n",
       "      <td>0.066519</td>\n",
       "      <td>0.0</td>\n",
       "      <td>0.066519</td>\n",
       "      <td>0.0</td>\n",
       "      <td>0.0</td>\n",
       "      <td>0.0</td>\n",
       "      <td>0.0</td>\n",
       "      <td>...</td>\n",
       "      <td>0.0</td>\n",
       "      <td>0.161117</td>\n",
       "      <td>0.0</td>\n",
       "      <td>0.093863</td>\n",
       "      <td>0.066519</td>\n",
       "      <td>0.0</td>\n",
       "      <td>3.411742</td>\n",
       "      <td>20.133652</td>\n",
       "      <td>0.317221</td>\n",
       "      <td>2.640375e+08</td>\n",
       "    </tr>\n",
       "    <tr>\n",
       "      <th>min</th>\n",
       "      <td>40.000000</td>\n",
       "      <td>3.000000e+05</td>\n",
       "      <td>7.990000e+05</td>\n",
       "      <td>0.000000</td>\n",
       "      <td>0.0</td>\n",
       "      <td>0.000000</td>\n",
       "      <td>0.0</td>\n",
       "      <td>0.0</td>\n",
       "      <td>0.0</td>\n",
       "      <td>0.0</td>\n",
       "      <td>...</td>\n",
       "      <td>0.0</td>\n",
       "      <td>0.000000</td>\n",
       "      <td>0.0</td>\n",
       "      <td>0.000000</td>\n",
       "      <td>0.000000</td>\n",
       "      <td>0.0</td>\n",
       "      <td>1.000000</td>\n",
       "      <td>1937.000000</td>\n",
       "      <td>0.000000</td>\n",
       "      <td>1.100000e+04</td>\n",
       "    </tr>\n",
       "    <tr>\n",
       "      <th>25%</th>\n",
       "      <td>85.250000</td>\n",
       "      <td>1.125000e+07</td>\n",
       "      <td>4.480000e+07</td>\n",
       "      <td>0.000000</td>\n",
       "      <td>0.0</td>\n",
       "      <td>0.000000</td>\n",
       "      <td>0.0</td>\n",
       "      <td>0.0</td>\n",
       "      <td>0.0</td>\n",
       "      <td>0.0</td>\n",
       "      <td>...</td>\n",
       "      <td>0.0</td>\n",
       "      <td>1.000000</td>\n",
       "      <td>0.0</td>\n",
       "      <td>0.000000</td>\n",
       "      <td>0.000000</td>\n",
       "      <td>0.0</td>\n",
       "      <td>4.000000</td>\n",
       "      <td>1992.250000</td>\n",
       "      <td>1.000000</td>\n",
       "      <td>2.252500e+07</td>\n",
       "    </tr>\n",
       "    <tr>\n",
       "      <th>50%</th>\n",
       "      <td>98.000000</td>\n",
       "      <td>3.150000e+07</td>\n",
       "      <td>1.373500e+08</td>\n",
       "      <td>0.000000</td>\n",
       "      <td>0.0</td>\n",
       "      <td>0.000000</td>\n",
       "      <td>0.0</td>\n",
       "      <td>0.0</td>\n",
       "      <td>0.0</td>\n",
       "      <td>0.0</td>\n",
       "      <td>...</td>\n",
       "      <td>0.0</td>\n",
       "      <td>1.000000</td>\n",
       "      <td>0.0</td>\n",
       "      <td>0.000000</td>\n",
       "      <td>0.000000</td>\n",
       "      <td>0.0</td>\n",
       "      <td>7.000000</td>\n",
       "      <td>2003.000000</td>\n",
       "      <td>1.000000</td>\n",
       "      <td>8.655000e+07</td>\n",
       "    </tr>\n",
       "    <tr>\n",
       "      <th>75%</th>\n",
       "      <td>108.750000</td>\n",
       "      <td>1.137500e+08</td>\n",
       "      <td>3.447000e+08</td>\n",
       "      <td>0.000000</td>\n",
       "      <td>0.0</td>\n",
       "      <td>0.000000</td>\n",
       "      <td>0.0</td>\n",
       "      <td>0.0</td>\n",
       "      <td>0.0</td>\n",
       "      <td>0.0</td>\n",
       "      <td>...</td>\n",
       "      <td>0.0</td>\n",
       "      <td>1.000000</td>\n",
       "      <td>0.0</td>\n",
       "      <td>0.000000</td>\n",
       "      <td>0.000000</td>\n",
       "      <td>0.0</td>\n",
       "      <td>10.000000</td>\n",
       "      <td>2010.000000</td>\n",
       "      <td>1.000000</td>\n",
       "      <td>2.451000e+08</td>\n",
       "    </tr>\n",
       "    <tr>\n",
       "      <th>max</th>\n",
       "      <td>168.000000</td>\n",
       "      <td>4.106000e+08</td>\n",
       "      <td>1.657000e+09</td>\n",
       "      <td>1.000000</td>\n",
       "      <td>0.0</td>\n",
       "      <td>1.000000</td>\n",
       "      <td>0.0</td>\n",
       "      <td>0.0</td>\n",
       "      <td>0.0</td>\n",
       "      <td>0.0</td>\n",
       "      <td>...</td>\n",
       "      <td>0.0</td>\n",
       "      <td>1.000000</td>\n",
       "      <td>0.0</td>\n",
       "      <td>1.000000</td>\n",
       "      <td>1.000000</td>\n",
       "      <td>0.0</td>\n",
       "      <td>12.000000</td>\n",
       "      <td>2019.000000</td>\n",
       "      <td>5.000000</td>\n",
       "      <td>1.407000e+09</td>\n",
       "    </tr>\n",
       "  </tbody>\n",
       "</table>\n",
       "<p>8 rows × 28 columns</p>\n",
       "</div>"
      ],
      "text/plain": [
       "       running_time        budget    box_office     Russian  Spanish  \\\n",
       "count    226.000000  2.260000e+02  2.260000e+02  226.000000    226.0   \n",
       "mean      99.814159  6.732445e+07  2.602731e+08    0.004425      0.0   \n",
       "std       19.665220  7.261396e+07  3.161839e+08    0.066519      0.0   \n",
       "min       40.000000  3.000000e+05  7.990000e+05    0.000000      0.0   \n",
       "25%       85.250000  1.125000e+07  4.480000e+07    0.000000      0.0   \n",
       "50%       98.000000  3.150000e+07  1.373500e+08    0.000000      0.0   \n",
       "75%      108.750000  1.137500e+08  3.447000e+08    0.000000      0.0   \n",
       "max      168.000000  4.106000e+08  1.657000e+09    1.000000      0.0   \n",
       "\n",
       "          Swedish  Telugu  Luganda  Portuguese  German  ...  Irish  \\\n",
       "count  226.000000   226.0    226.0       226.0   226.0  ...  226.0   \n",
       "mean     0.004425     0.0      0.0         0.0     0.0  ...    0.0   \n",
       "std      0.066519     0.0      0.0         0.0     0.0  ...    0.0   \n",
       "min      0.000000     0.0      0.0         0.0     0.0  ...    0.0   \n",
       "25%      0.000000     0.0      0.0         0.0     0.0  ...    0.0   \n",
       "50%      0.000000     0.0      0.0         0.0     0.0  ...    0.0   \n",
       "75%      0.000000     0.0      0.0         0.0     0.0  ...    0.0   \n",
       "max      1.000000     0.0      0.0         0.0     0.0  ...    0.0   \n",
       "\n",
       "          English  Gaelic       Hindi   Norwegian  Chinese  month_of_release  \\\n",
       "count  226.000000   226.0  226.000000  226.000000    226.0        226.000000   \n",
       "mean     0.973451     0.0    0.008850    0.004425      0.0          7.004425   \n",
       "std      0.161117     0.0    0.093863    0.066519      0.0          3.411742   \n",
       "min      0.000000     0.0    0.000000    0.000000      0.0          1.000000   \n",
       "25%      1.000000     0.0    0.000000    0.000000      0.0          4.000000   \n",
       "50%      1.000000     0.0    0.000000    0.000000      0.0          7.000000   \n",
       "75%      1.000000     0.0    0.000000    0.000000      0.0         10.000000   \n",
       "max      1.000000     0.0    1.000000    1.000000      0.0         12.000000   \n",
       "\n",
       "       year_of_release  no_of_langs       revenue  \n",
       "count       226.000000   226.000000  2.260000e+02  \n",
       "mean       1996.977876     1.039823  1.929486e+08  \n",
       "std          20.133652     0.317221  2.640375e+08  \n",
       "min        1937.000000     0.000000  1.100000e+04  \n",
       "25%        1992.250000     1.000000  2.252500e+07  \n",
       "50%        2003.000000     1.000000  8.655000e+07  \n",
       "75%        2010.000000     1.000000  2.451000e+08  \n",
       "max        2019.000000     5.000000  1.407000e+09  \n",
       "\n",
       "[8 rows x 28 columns]"
      ]
     },
     "execution_count": 24,
     "metadata": {},
     "output_type": "execute_result"
    }
   ],
   "source": [
    "successful = sort_by_revenue[sort_by_revenue['revenue'] > 0].describe()\n",
    "successful"
   ]
  },
  {
   "cell_type": "code",
   "execution_count": 25,
   "metadata": {},
   "outputs": [
    {
     "data": {
      "text/html": [
       "<div>\n",
       "<style scoped>\n",
       "    .dataframe tbody tr th:only-of-type {\n",
       "        vertical-align: middle;\n",
       "    }\n",
       "\n",
       "    .dataframe tbody tr th {\n",
       "        vertical-align: top;\n",
       "    }\n",
       "\n",
       "    .dataframe thead th {\n",
       "        text-align: right;\n",
       "    }\n",
       "</style>\n",
       "<table border=\"1\" class=\"dataframe\">\n",
       "  <thead>\n",
       "    <tr style=\"text-align: right;\">\n",
       "      <th></th>\n",
       "      <th>running_time</th>\n",
       "      <th>budget</th>\n",
       "      <th>box_office</th>\n",
       "      <th>Russian</th>\n",
       "      <th>Spanish</th>\n",
       "      <th>Swedish</th>\n",
       "      <th>Telugu</th>\n",
       "      <th>Luganda</th>\n",
       "      <th>Portuguese</th>\n",
       "      <th>German</th>\n",
       "      <th>...</th>\n",
       "      <th>Irish</th>\n",
       "      <th>English</th>\n",
       "      <th>Gaelic</th>\n",
       "      <th>Hindi</th>\n",
       "      <th>Norwegian</th>\n",
       "      <th>Chinese</th>\n",
       "      <th>month_of_release</th>\n",
       "      <th>year_of_release</th>\n",
       "      <th>no_of_langs</th>\n",
       "      <th>revenue</th>\n",
       "    </tr>\n",
       "  </thead>\n",
       "  <tbody>\n",
       "    <tr>\n",
       "      <th>count</th>\n",
       "      <td>33.000000</td>\n",
       "      <td>3.400000e+01</td>\n",
       "      <td>3.400000e+01</td>\n",
       "      <td>34.0</td>\n",
       "      <td>34.0</td>\n",
       "      <td>34.0</td>\n",
       "      <td>34.000000</td>\n",
       "      <td>34.000000</td>\n",
       "      <td>34.0</td>\n",
       "      <td>34.0</td>\n",
       "      <td>...</td>\n",
       "      <td>34.0</td>\n",
       "      <td>34.000000</td>\n",
       "      <td>34.0</td>\n",
       "      <td>34.000000</td>\n",
       "      <td>34.000000</td>\n",
       "      <td>34.000000</td>\n",
       "      <td>34.000000</td>\n",
       "      <td>34.000000</td>\n",
       "      <td>34.000000</td>\n",
       "      <td>3.400000e+01</td>\n",
       "    </tr>\n",
       "    <tr>\n",
       "      <th>mean</th>\n",
       "      <td>100.909091</td>\n",
       "      <td>5.454458e+07</td>\n",
       "      <td>3.414703e+07</td>\n",
       "      <td>0.0</td>\n",
       "      <td>0.0</td>\n",
       "      <td>0.0</td>\n",
       "      <td>0.029412</td>\n",
       "      <td>0.029412</td>\n",
       "      <td>0.0</td>\n",
       "      <td>0.0</td>\n",
       "      <td>...</td>\n",
       "      <td>0.0</td>\n",
       "      <td>0.911765</td>\n",
       "      <td>0.0</td>\n",
       "      <td>0.058824</td>\n",
       "      <td>0.029412</td>\n",
       "      <td>0.029412</td>\n",
       "      <td>6.323529</td>\n",
       "      <td>1997.382353</td>\n",
       "      <td>1.147059</td>\n",
       "      <td>-2.039755e+07</td>\n",
       "    </tr>\n",
       "    <tr>\n",
       "      <th>std</th>\n",
       "      <td>19.190433</td>\n",
       "      <td>6.755082e+07</td>\n",
       "      <td>5.421256e+07</td>\n",
       "      <td>0.0</td>\n",
       "      <td>0.0</td>\n",
       "      <td>0.0</td>\n",
       "      <td>0.171499</td>\n",
       "      <td>0.171499</td>\n",
       "      <td>0.0</td>\n",
       "      <td>0.0</td>\n",
       "      <td>...</td>\n",
       "      <td>0.0</td>\n",
       "      <td>0.287902</td>\n",
       "      <td>0.0</td>\n",
       "      <td>0.238833</td>\n",
       "      <td>0.171499</td>\n",
       "      <td>0.171499</td>\n",
       "      <td>3.548116</td>\n",
       "      <td>15.147787</td>\n",
       "      <td>0.743960</td>\n",
       "      <td>2.867079e+07</td>\n",
       "    </tr>\n",
       "    <tr>\n",
       "      <th>min</th>\n",
       "      <td>69.000000</td>\n",
       "      <td>2.000000e+06</td>\n",
       "      <td>1.000000e+06</td>\n",
       "      <td>0.0</td>\n",
       "      <td>0.0</td>\n",
       "      <td>0.0</td>\n",
       "      <td>0.000000</td>\n",
       "      <td>0.000000</td>\n",
       "      <td>0.0</td>\n",
       "      <td>0.0</td>\n",
       "      <td>...</td>\n",
       "      <td>0.0</td>\n",
       "      <td>0.000000</td>\n",
       "      <td>0.0</td>\n",
       "      <td>0.000000</td>\n",
       "      <td>0.000000</td>\n",
       "      <td>0.000000</td>\n",
       "      <td>1.000000</td>\n",
       "      <td>1953.000000</td>\n",
       "      <td>0.000000</td>\n",
       "      <td>-1.332000e+08</td>\n",
       "    </tr>\n",
       "    <tr>\n",
       "      <th>25%</th>\n",
       "      <td>88.000000</td>\n",
       "      <td>1.647894e+07</td>\n",
       "      <td>8.900000e+06</td>\n",
       "      <td>0.0</td>\n",
       "      <td>0.0</td>\n",
       "      <td>0.0</td>\n",
       "      <td>0.000000</td>\n",
       "      <td>0.000000</td>\n",
       "      <td>0.0</td>\n",
       "      <td>0.0</td>\n",
       "      <td>...</td>\n",
       "      <td>0.0</td>\n",
       "      <td>1.000000</td>\n",
       "      <td>0.0</td>\n",
       "      <td>0.000000</td>\n",
       "      <td>0.000000</td>\n",
       "      <td>0.000000</td>\n",
       "      <td>3.000000</td>\n",
       "      <td>1990.500000</td>\n",
       "      <td>1.000000</td>\n",
       "      <td>-2.227500e+07</td>\n",
       "    </tr>\n",
       "    <tr>\n",
       "      <th>50%</th>\n",
       "      <td>95.000000</td>\n",
       "      <td>2.600000e+07</td>\n",
       "      <td>1.525000e+07</td>\n",
       "      <td>0.0</td>\n",
       "      <td>0.0</td>\n",
       "      <td>0.0</td>\n",
       "      <td>0.000000</td>\n",
       "      <td>0.000000</td>\n",
       "      <td>0.0</td>\n",
       "      <td>0.0</td>\n",
       "      <td>...</td>\n",
       "      <td>0.0</td>\n",
       "      <td>1.000000</td>\n",
       "      <td>0.0</td>\n",
       "      <td>0.000000</td>\n",
       "      <td>0.000000</td>\n",
       "      <td>0.000000</td>\n",
       "      <td>6.500000</td>\n",
       "      <td>1998.000000</td>\n",
       "      <td>1.000000</td>\n",
       "      <td>-1.140000e+07</td>\n",
       "    </tr>\n",
       "    <tr>\n",
       "      <th>75%</th>\n",
       "      <td>114.000000</td>\n",
       "      <td>6.375000e+07</td>\n",
       "      <td>3.482500e+07</td>\n",
       "      <td>0.0</td>\n",
       "      <td>0.0</td>\n",
       "      <td>0.0</td>\n",
       "      <td>0.000000</td>\n",
       "      <td>0.000000</td>\n",
       "      <td>0.0</td>\n",
       "      <td>0.0</td>\n",
       "      <td>...</td>\n",
       "      <td>0.0</td>\n",
       "      <td>1.000000</td>\n",
       "      <td>0.0</td>\n",
       "      <td>0.000000</td>\n",
       "      <td>0.000000</td>\n",
       "      <td>0.000000</td>\n",
       "      <td>9.750000</td>\n",
       "      <td>2004.750000</td>\n",
       "      <td>1.000000</td>\n",
       "      <td>-3.825000e+06</td>\n",
       "    </tr>\n",
       "    <tr>\n",
       "      <th>max</th>\n",
       "      <td>162.000000</td>\n",
       "      <td>3.066000e+08</td>\n",
       "      <td>2.841000e+08</td>\n",
       "      <td>0.0</td>\n",
       "      <td>0.0</td>\n",
       "      <td>0.0</td>\n",
       "      <td>1.000000</td>\n",
       "      <td>1.000000</td>\n",
       "      <td>0.0</td>\n",
       "      <td>0.0</td>\n",
       "      <td>...</td>\n",
       "      <td>0.0</td>\n",
       "      <td>1.000000</td>\n",
       "      <td>0.0</td>\n",
       "      <td>1.000000</td>\n",
       "      <td>1.000000</td>\n",
       "      <td>1.000000</td>\n",
       "      <td>12.000000</td>\n",
       "      <td>2020.000000</td>\n",
       "      <td>5.000000</td>\n",
       "      <td>-3.000000e+05</td>\n",
       "    </tr>\n",
       "  </tbody>\n",
       "</table>\n",
       "<p>8 rows × 28 columns</p>\n",
       "</div>"
      ],
      "text/plain": [
       "       running_time        budget    box_office  Russian  Spanish  Swedish  \\\n",
       "count     33.000000  3.400000e+01  3.400000e+01     34.0     34.0     34.0   \n",
       "mean     100.909091  5.454458e+07  3.414703e+07      0.0      0.0      0.0   \n",
       "std       19.190433  6.755082e+07  5.421256e+07      0.0      0.0      0.0   \n",
       "min       69.000000  2.000000e+06  1.000000e+06      0.0      0.0      0.0   \n",
       "25%       88.000000  1.647894e+07  8.900000e+06      0.0      0.0      0.0   \n",
       "50%       95.000000  2.600000e+07  1.525000e+07      0.0      0.0      0.0   \n",
       "75%      114.000000  6.375000e+07  3.482500e+07      0.0      0.0      0.0   \n",
       "max      162.000000  3.066000e+08  2.841000e+08      0.0      0.0      0.0   \n",
       "\n",
       "          Telugu    Luganda  Portuguese  German  ...  Irish    English  \\\n",
       "count  34.000000  34.000000        34.0    34.0  ...   34.0  34.000000   \n",
       "mean    0.029412   0.029412         0.0     0.0  ...    0.0   0.911765   \n",
       "std     0.171499   0.171499         0.0     0.0  ...    0.0   0.287902   \n",
       "min     0.000000   0.000000         0.0     0.0  ...    0.0   0.000000   \n",
       "25%     0.000000   0.000000         0.0     0.0  ...    0.0   1.000000   \n",
       "50%     0.000000   0.000000         0.0     0.0  ...    0.0   1.000000   \n",
       "75%     0.000000   0.000000         0.0     0.0  ...    0.0   1.000000   \n",
       "max     1.000000   1.000000         0.0     0.0  ...    0.0   1.000000   \n",
       "\n",
       "       Gaelic      Hindi  Norwegian    Chinese  month_of_release  \\\n",
       "count    34.0  34.000000  34.000000  34.000000         34.000000   \n",
       "mean      0.0   0.058824   0.029412   0.029412          6.323529   \n",
       "std       0.0   0.238833   0.171499   0.171499          3.548116   \n",
       "min       0.0   0.000000   0.000000   0.000000          1.000000   \n",
       "25%       0.0   0.000000   0.000000   0.000000          3.000000   \n",
       "50%       0.0   0.000000   0.000000   0.000000          6.500000   \n",
       "75%       0.0   0.000000   0.000000   0.000000          9.750000   \n",
       "max       0.0   1.000000   1.000000   1.000000         12.000000   \n",
       "\n",
       "       year_of_release  no_of_langs       revenue  \n",
       "count        34.000000    34.000000  3.400000e+01  \n",
       "mean       1997.382353     1.147059 -2.039755e+07  \n",
       "std          15.147787     0.743960  2.867079e+07  \n",
       "min        1953.000000     0.000000 -1.332000e+08  \n",
       "25%        1990.500000     1.000000 -2.227500e+07  \n",
       "50%        1998.000000     1.000000 -1.140000e+07  \n",
       "75%        2004.750000     1.000000 -3.825000e+06  \n",
       "max        2020.000000     5.000000 -3.000000e+05  \n",
       "\n",
       "[8 rows x 28 columns]"
      ]
     },
     "execution_count": 25,
     "metadata": {},
     "output_type": "execute_result"
    }
   ],
   "source": [
    "flops=sort_by_revenue[sort_by_revenue['revenue'] < 0].describe()\n",
    "flops"
   ]
  },
  {
   "cell_type": "code",
   "execution_count": null,
   "metadata": {},
   "outputs": [],
   "source": []
  }
 ],
 "metadata": {
  "kernelspec": {
   "display_name": "Python 3",
   "language": "python",
   "name": "python3"
  },
  "language_info": {
   "codemirror_mode": {
    "name": "ipython",
    "version": 3
   },
   "file_extension": ".py",
   "mimetype": "text/x-python",
   "name": "python",
   "nbconvert_exporter": "python",
   "pygments_lexer": "ipython3",
   "version": "3.7.6"
  }
 },
 "nbformat": 4,
 "nbformat_minor": 4
}
