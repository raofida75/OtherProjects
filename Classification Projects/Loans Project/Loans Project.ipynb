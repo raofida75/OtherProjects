{
 "cells": [
  {
   "cell_type": "code",
   "execution_count": 1,
   "metadata": {},
   "outputs": [],
   "source": [
    "import pandas as pd\n",
    "import numpy as np\n",
    "import matplotlib.pyplot as plt\n",
    "import seaborn as sns\n",
    "import warnings\n",
    "warnings.filterwarnings('ignore')\n",
    "from imblearn.over_sampling import SMOTE"
   ]
  },
  {
   "cell_type": "code",
   "execution_count": 2,
   "metadata": {},
   "outputs": [],
   "source": [
    "df=pd.read_csv('loans_2007.csv')"
   ]
  },
  {
   "cell_type": "code",
   "execution_count": 3,
   "metadata": {},
   "outputs": [
    {
     "data": {
      "text/html": [
       "<div>\n",
       "<style scoped>\n",
       "    .dataframe tbody tr th:only-of-type {\n",
       "        vertical-align: middle;\n",
       "    }\n",
       "\n",
       "    .dataframe tbody tr th {\n",
       "        vertical-align: top;\n",
       "    }\n",
       "\n",
       "    .dataframe thead th {\n",
       "        text-align: right;\n",
       "    }\n",
       "</style>\n",
       "<table border=\"1\" class=\"dataframe\">\n",
       "  <thead>\n",
       "    <tr style=\"text-align: right;\">\n",
       "      <th></th>\n",
       "      <th>loan_amnt</th>\n",
       "      <th>funded_amnt</th>\n",
       "      <th>funded_amnt_inv</th>\n",
       "      <th>term</th>\n",
       "      <th>int_rate</th>\n",
       "      <th>installment</th>\n",
       "      <th>grade</th>\n",
       "      <th>sub_grade</th>\n",
       "      <th>emp_title</th>\n",
       "      <th>emp_length</th>\n",
       "      <th>...</th>\n",
       "      <th>policy_code</th>\n",
       "      <th>application_type</th>\n",
       "      <th>acc_now_delinq</th>\n",
       "      <th>chargeoff_within_12_mths</th>\n",
       "      <th>delinq_amnt</th>\n",
       "      <th>pub_rec_bankruptcies</th>\n",
       "      <th>tax_liens</th>\n",
       "      <th>hardship_flag</th>\n",
       "      <th>disbursement_method</th>\n",
       "      <th>debt_settlement_flag</th>\n",
       "    </tr>\n",
       "  </thead>\n",
       "  <tbody>\n",
       "    <tr>\n",
       "      <th>0</th>\n",
       "      <td>5000.0</td>\n",
       "      <td>5000.0</td>\n",
       "      <td>4975.0</td>\n",
       "      <td>36 months</td>\n",
       "      <td>10.65%</td>\n",
       "      <td>162.87</td>\n",
       "      <td>B</td>\n",
       "      <td>B2</td>\n",
       "      <td>NaN</td>\n",
       "      <td>10+ years</td>\n",
       "      <td>...</td>\n",
       "      <td>1.0</td>\n",
       "      <td>Individual</td>\n",
       "      <td>0.0</td>\n",
       "      <td>0.0</td>\n",
       "      <td>0.0</td>\n",
       "      <td>0.0</td>\n",
       "      <td>0.0</td>\n",
       "      <td>N</td>\n",
       "      <td>Cash</td>\n",
       "      <td>N</td>\n",
       "    </tr>\n",
       "    <tr>\n",
       "      <th>1</th>\n",
       "      <td>2500.0</td>\n",
       "      <td>2500.0</td>\n",
       "      <td>2500.0</td>\n",
       "      <td>60 months</td>\n",
       "      <td>15.27%</td>\n",
       "      <td>59.83</td>\n",
       "      <td>C</td>\n",
       "      <td>C4</td>\n",
       "      <td>Ryder</td>\n",
       "      <td>&lt; 1 year</td>\n",
       "      <td>...</td>\n",
       "      <td>1.0</td>\n",
       "      <td>Individual</td>\n",
       "      <td>0.0</td>\n",
       "      <td>0.0</td>\n",
       "      <td>0.0</td>\n",
       "      <td>0.0</td>\n",
       "      <td>0.0</td>\n",
       "      <td>N</td>\n",
       "      <td>Cash</td>\n",
       "      <td>N</td>\n",
       "    </tr>\n",
       "    <tr>\n",
       "      <th>2</th>\n",
       "      <td>2400.0</td>\n",
       "      <td>2400.0</td>\n",
       "      <td>2400.0</td>\n",
       "      <td>36 months</td>\n",
       "      <td>15.96%</td>\n",
       "      <td>84.33</td>\n",
       "      <td>C</td>\n",
       "      <td>C5</td>\n",
       "      <td>NaN</td>\n",
       "      <td>10+ years</td>\n",
       "      <td>...</td>\n",
       "      <td>1.0</td>\n",
       "      <td>Individual</td>\n",
       "      <td>0.0</td>\n",
       "      <td>0.0</td>\n",
       "      <td>0.0</td>\n",
       "      <td>0.0</td>\n",
       "      <td>0.0</td>\n",
       "      <td>N</td>\n",
       "      <td>Cash</td>\n",
       "      <td>N</td>\n",
       "    </tr>\n",
       "    <tr>\n",
       "      <th>3</th>\n",
       "      <td>10000.0</td>\n",
       "      <td>10000.0</td>\n",
       "      <td>10000.0</td>\n",
       "      <td>36 months</td>\n",
       "      <td>13.49%</td>\n",
       "      <td>339.31</td>\n",
       "      <td>C</td>\n",
       "      <td>C1</td>\n",
       "      <td>AIR RESOURCES BOARD</td>\n",
       "      <td>10+ years</td>\n",
       "      <td>...</td>\n",
       "      <td>1.0</td>\n",
       "      <td>Individual</td>\n",
       "      <td>0.0</td>\n",
       "      <td>0.0</td>\n",
       "      <td>0.0</td>\n",
       "      <td>0.0</td>\n",
       "      <td>0.0</td>\n",
       "      <td>N</td>\n",
       "      <td>Cash</td>\n",
       "      <td>N</td>\n",
       "    </tr>\n",
       "    <tr>\n",
       "      <th>4</th>\n",
       "      <td>3000.0</td>\n",
       "      <td>3000.0</td>\n",
       "      <td>3000.0</td>\n",
       "      <td>60 months</td>\n",
       "      <td>12.69%</td>\n",
       "      <td>67.79</td>\n",
       "      <td>B</td>\n",
       "      <td>B5</td>\n",
       "      <td>University Medical Group</td>\n",
       "      <td>1 year</td>\n",
       "      <td>...</td>\n",
       "      <td>1.0</td>\n",
       "      <td>Individual</td>\n",
       "      <td>0.0</td>\n",
       "      <td>0.0</td>\n",
       "      <td>0.0</td>\n",
       "      <td>0.0</td>\n",
       "      <td>0.0</td>\n",
       "      <td>N</td>\n",
       "      <td>Cash</td>\n",
       "      <td>N</td>\n",
       "    </tr>\n",
       "  </tbody>\n",
       "</table>\n",
       "<p>5 rows × 53 columns</p>\n",
       "</div>"
      ],
      "text/plain": [
       "   loan_amnt  funded_amnt  funded_amnt_inv        term int_rate  installment  \\\n",
       "0     5000.0       5000.0           4975.0   36 months   10.65%       162.87   \n",
       "1     2500.0       2500.0           2500.0   60 months   15.27%        59.83   \n",
       "2     2400.0       2400.0           2400.0   36 months   15.96%        84.33   \n",
       "3    10000.0      10000.0          10000.0   36 months   13.49%       339.31   \n",
       "4     3000.0       3000.0           3000.0   60 months   12.69%        67.79   \n",
       "\n",
       "  grade sub_grade                 emp_title emp_length  ... policy_code  \\\n",
       "0     B        B2                       NaN  10+ years  ...         1.0   \n",
       "1     C        C4                     Ryder   < 1 year  ...         1.0   \n",
       "2     C        C5                       NaN  10+ years  ...         1.0   \n",
       "3     C        C1       AIR RESOURCES BOARD  10+ years  ...         1.0   \n",
       "4     B        B5  University Medical Group     1 year  ...         1.0   \n",
       "\n",
       "   application_type acc_now_delinq chargeoff_within_12_mths delinq_amnt  \\\n",
       "0        Individual            0.0                      0.0         0.0   \n",
       "1        Individual            0.0                      0.0         0.0   \n",
       "2        Individual            0.0                      0.0         0.0   \n",
       "3        Individual            0.0                      0.0         0.0   \n",
       "4        Individual            0.0                      0.0         0.0   \n",
       "\n",
       "  pub_rec_bankruptcies tax_liens hardship_flag disbursement_method  \\\n",
       "0                  0.0       0.0             N                Cash   \n",
       "1                  0.0       0.0             N                Cash   \n",
       "2                  0.0       0.0             N                Cash   \n",
       "3                  0.0       0.0             N                Cash   \n",
       "4                  0.0       0.0             N                Cash   \n",
       "\n",
       "  debt_settlement_flag  \n",
       "0                    N  \n",
       "1                    N  \n",
       "2                    N  \n",
       "3                    N  \n",
       "4                    N  \n",
       "\n",
       "[5 rows x 53 columns]"
      ]
     },
     "execution_count": 3,
     "metadata": {},
     "output_type": "execute_result"
    }
   ],
   "source": [
    "df.head()"
   ]
  },
  {
   "cell_type": "code",
   "execution_count": 4,
   "metadata": {},
   "outputs": [
    {
     "data": {
      "text/plain": [
       "float64    29\n",
       "object     24\n",
       "dtype: int64"
      ]
     },
     "execution_count": 4,
     "metadata": {},
     "output_type": "execute_result"
    }
   ],
   "source": [
    "df.dtypes.value_counts()"
   ]
  },
  {
   "cell_type": "code",
   "execution_count": 5,
   "metadata": {},
   "outputs": [
    {
     "data": {
      "text/plain": [
       "Index(['term', 'int_rate', 'grade', 'sub_grade', 'emp_title', 'emp_length',\n",
       "       'home_ownership', 'verification_status', 'issue_d', 'loan_status',\n",
       "       'pymnt_plan', 'purpose', 'title', 'zip_code', 'addr_state',\n",
       "       'earliest_cr_line', 'revol_util', 'initial_list_status', 'last_pymnt_d',\n",
       "       'last_credit_pull_d', 'application_type', 'hardship_flag',\n",
       "       'disbursement_method', 'debt_settlement_flag'],\n",
       "      dtype='object')"
      ]
     },
     "execution_count": 5,
     "metadata": {},
     "output_type": "execute_result"
    }
   ],
   "source": [
    "df.select_dtypes('object').columns"
   ]
  },
  {
   "cell_type": "code",
   "execution_count": 6,
   "metadata": {},
   "outputs": [
    {
     "data": {
      "text/plain": [
       "emp_title                     2629\n",
       "pub_rec_bankruptcies          1368\n",
       "emp_length                    1115\n",
       "chargeoff_within_12_mths       148\n",
       "collections_12_mths_ex_med     148\n",
       "tax_liens                      108\n",
       "revol_util                      93\n",
       "last_pymnt_d                    86\n",
       "delinq_2yrs                     32\n",
       "delinq_amnt                     32\n",
       "acc_now_delinq                  32\n",
       "earliest_cr_line                32\n",
       "inq_last_6mths                  32\n",
       "open_acc                        32\n",
       "pub_rec                         32\n",
       "total_acc                       32\n",
       "title                           16\n",
       "annual_inc                       7\n",
       "last_credit_pull_d               7\n",
       "zip_code                         3\n",
       "pymnt_plan                       3\n",
       "purpose                          3\n",
       "funded_amnt                      3\n",
       "funded_amnt_inv                  3\n",
       "term                             3\n",
       "int_rate                         3\n",
       "installment                      3\n",
       "sub_grade                        3\n",
       "grade                            3\n",
       "loan_status                      3\n",
       "issue_d                          3\n",
       "verification_status              3\n",
       "home_ownership                   3\n",
       "debt_settlement_flag             3\n",
       "revol_bal                        3\n",
       "addr_state                       3\n",
       "dti                              3\n",
       "hardship_flag                    3\n",
       "application_type                 3\n",
       "policy_code                      3\n",
       "last_pymnt_amnt                  3\n",
       "collection_recovery_fee          3\n",
       "recoveries                       3\n",
       "total_rec_late_fee               3\n",
       "total_rec_int                    3\n",
       "total_rec_prncp                  3\n",
       "total_pymnt_inv                  3\n",
       "total_pymnt                      3\n",
       "out_prncp_inv                    3\n",
       "out_prncp                        3\n",
       "initial_list_status              3\n",
       "disbursement_method              3\n",
       "loan_amnt                        3\n",
       "dtype: int64"
      ]
     },
     "execution_count": 6,
     "metadata": {},
     "output_type": "execute_result"
    }
   ],
   "source": [
    "df.isnull().sum().sort_values(ascending=False)"
   ]
  },
  {
   "cell_type": "markdown",
   "metadata": {},
   "source": [
    "# Data Cleaning"
   ]
  },
  {
   "cell_type": "code",
   "execution_count": 7,
   "metadata": {},
   "outputs": [
    {
     "data": {
      "text/html": [
       "<div>\n",
       "<style scoped>\n",
       "    .dataframe tbody tr th:only-of-type {\n",
       "        vertical-align: middle;\n",
       "    }\n",
       "\n",
       "    .dataframe tbody tr th {\n",
       "        vertical-align: top;\n",
       "    }\n",
       "\n",
       "    .dataframe thead th {\n",
       "        text-align: right;\n",
       "    }\n",
       "</style>\n",
       "<table border=\"1\" class=\"dataframe\">\n",
       "  <thead>\n",
       "    <tr style=\"text-align: right;\">\n",
       "      <th></th>\n",
       "      <th>loan_amnt</th>\n",
       "      <th>funded_amnt</th>\n",
       "      <th>funded_amnt_inv</th>\n",
       "      <th>term</th>\n",
       "      <th>int_rate</th>\n",
       "      <th>installment</th>\n",
       "      <th>grade</th>\n",
       "      <th>sub_grade</th>\n",
       "      <th>emp_title</th>\n",
       "      <th>emp_length</th>\n",
       "      <th>...</th>\n",
       "      <th>policy_code</th>\n",
       "      <th>application_type</th>\n",
       "      <th>acc_now_delinq</th>\n",
       "      <th>chargeoff_within_12_mths</th>\n",
       "      <th>delinq_amnt</th>\n",
       "      <th>pub_rec_bankruptcies</th>\n",
       "      <th>tax_liens</th>\n",
       "      <th>hardship_flag</th>\n",
       "      <th>disbursement_method</th>\n",
       "      <th>debt_settlement_flag</th>\n",
       "    </tr>\n",
       "  </thead>\n",
       "  <tbody>\n",
       "    <tr>\n",
       "      <th>26758</th>\n",
       "      <td>4000.0</td>\n",
       "      <td>4000.0</td>\n",
       "      <td>4000.000000</td>\n",
       "      <td>60 months</td>\n",
       "      <td>15.95%</td>\n",
       "      <td>97.17</td>\n",
       "      <td>D</td>\n",
       "      <td>D4</td>\n",
       "      <td>Exempla Health Care</td>\n",
       "      <td>1 year</td>\n",
       "      <td>...</td>\n",
       "      <td>1.0</td>\n",
       "      <td>Individual</td>\n",
       "      <td>0.0</td>\n",
       "      <td>0.0</td>\n",
       "      <td>0.0</td>\n",
       "      <td>0.0</td>\n",
       "      <td>0.0</td>\n",
       "      <td>N</td>\n",
       "      <td>Cash</td>\n",
       "      <td>N</td>\n",
       "    </tr>\n",
       "    <tr>\n",
       "      <th>27885</th>\n",
       "      <td>16000.0</td>\n",
       "      <td>16000.0</td>\n",
       "      <td>15950.000000</td>\n",
       "      <td>36 months</td>\n",
       "      <td>16.32%</td>\n",
       "      <td>565.05</td>\n",
       "      <td>D</td>\n",
       "      <td>D5</td>\n",
       "      <td>Osiris Group, Inc.</td>\n",
       "      <td>8 years</td>\n",
       "      <td>...</td>\n",
       "      <td>1.0</td>\n",
       "      <td>Individual</td>\n",
       "      <td>0.0</td>\n",
       "      <td>0.0</td>\n",
       "      <td>0.0</td>\n",
       "      <td>0.0</td>\n",
       "      <td>0.0</td>\n",
       "      <td>N</td>\n",
       "      <td>Cash</td>\n",
       "      <td>N</td>\n",
       "    </tr>\n",
       "    <tr>\n",
       "      <th>3343</th>\n",
       "      <td>24000.0</td>\n",
       "      <td>24000.0</td>\n",
       "      <td>23968.739086</td>\n",
       "      <td>36 months</td>\n",
       "      <td>8.90%</td>\n",
       "      <td>762.08</td>\n",
       "      <td>A</td>\n",
       "      <td>A5</td>\n",
       "      <td>Brett Sports</td>\n",
       "      <td>10+ years</td>\n",
       "      <td>...</td>\n",
       "      <td>1.0</td>\n",
       "      <td>Individual</td>\n",
       "      <td>0.0</td>\n",
       "      <td>0.0</td>\n",
       "      <td>0.0</td>\n",
       "      <td>0.0</td>\n",
       "      <td>0.0</td>\n",
       "      <td>N</td>\n",
       "      <td>Cash</td>\n",
       "      <td>N</td>\n",
       "    </tr>\n",
       "    <tr>\n",
       "      <th>13098</th>\n",
       "      <td>4000.0</td>\n",
       "      <td>4000.0</td>\n",
       "      <td>4000.000000</td>\n",
       "      <td>36 months</td>\n",
       "      <td>5.42%</td>\n",
       "      <td>120.64</td>\n",
       "      <td>A</td>\n",
       "      <td>A1</td>\n",
       "      <td>Chas .F. Williams</td>\n",
       "      <td>10+ years</td>\n",
       "      <td>...</td>\n",
       "      <td>1.0</td>\n",
       "      <td>Individual</td>\n",
       "      <td>0.0</td>\n",
       "      <td>0.0</td>\n",
       "      <td>0.0</td>\n",
       "      <td>0.0</td>\n",
       "      <td>0.0</td>\n",
       "      <td>N</td>\n",
       "      <td>Cash</td>\n",
       "      <td>N</td>\n",
       "    </tr>\n",
       "    <tr>\n",
       "      <th>6107</th>\n",
       "      <td>5700.0</td>\n",
       "      <td>5700.0</td>\n",
       "      <td>5700.000000</td>\n",
       "      <td>60 months</td>\n",
       "      <td>18.64%</td>\n",
       "      <td>146.74</td>\n",
       "      <td>E</td>\n",
       "      <td>E1</td>\n",
       "      <td>Jersey City BOE</td>\n",
       "      <td>10+ years</td>\n",
       "      <td>...</td>\n",
       "      <td>1.0</td>\n",
       "      <td>Individual</td>\n",
       "      <td>0.0</td>\n",
       "      <td>0.0</td>\n",
       "      <td>0.0</td>\n",
       "      <td>0.0</td>\n",
       "      <td>0.0</td>\n",
       "      <td>N</td>\n",
       "      <td>Cash</td>\n",
       "      <td>N</td>\n",
       "    </tr>\n",
       "  </tbody>\n",
       "</table>\n",
       "<p>5 rows × 53 columns</p>\n",
       "</div>"
      ],
      "text/plain": [
       "       loan_amnt  funded_amnt  funded_amnt_inv        term int_rate  \\\n",
       "26758     4000.0       4000.0      4000.000000   60 months   15.95%   \n",
       "27885    16000.0      16000.0     15950.000000   36 months   16.32%   \n",
       "3343     24000.0      24000.0     23968.739086   36 months    8.90%   \n",
       "13098     4000.0       4000.0      4000.000000   36 months    5.42%   \n",
       "6107      5700.0       5700.0      5700.000000   60 months   18.64%   \n",
       "\n",
       "       installment grade sub_grade            emp_title emp_length  ...  \\\n",
       "26758        97.17     D        D4  Exempla Health Care     1 year  ...   \n",
       "27885       565.05     D        D5   Osiris Group, Inc.    8 years  ...   \n",
       "3343        762.08     A        A5         Brett Sports  10+ years  ...   \n",
       "13098       120.64     A        A1    Chas .F. Williams  10+ years  ...   \n",
       "6107        146.74     E        E1      Jersey City BOE  10+ years  ...   \n",
       "\n",
       "      policy_code  application_type acc_now_delinq chargeoff_within_12_mths  \\\n",
       "26758         1.0        Individual            0.0                      0.0   \n",
       "27885         1.0        Individual            0.0                      0.0   \n",
       "3343          1.0        Individual            0.0                      0.0   \n",
       "13098         1.0        Individual            0.0                      0.0   \n",
       "6107          1.0        Individual            0.0                      0.0   \n",
       "\n",
       "      delinq_amnt pub_rec_bankruptcies tax_liens hardship_flag  \\\n",
       "26758         0.0                  0.0       0.0             N   \n",
       "27885         0.0                  0.0       0.0             N   \n",
       "3343          0.0                  0.0       0.0             N   \n",
       "13098         0.0                  0.0       0.0             N   \n",
       "6107          0.0                  0.0       0.0             N   \n",
       "\n",
       "      disbursement_method debt_settlement_flag  \n",
       "26758                Cash                    N  \n",
       "27885                Cash                    N  \n",
       "3343                 Cash                    N  \n",
       "13098                Cash                    N  \n",
       "6107                 Cash                    N  \n",
       "\n",
       "[5 rows x 53 columns]"
      ]
     },
     "execution_count": 7,
     "metadata": {},
     "output_type": "execute_result"
    }
   ],
   "source": [
    "df.sample(5)"
   ]
  },
  {
   "cell_type": "code",
   "execution_count": 8,
   "metadata": {},
   "outputs": [],
   "source": [
    "df = df.drop(['emp_title', 'pub_rec_bankruptcies'],axis=1)\n",
    "\n",
    "# leaking data\n",
    "cols_drop_2 = ['total_pymnt', 'total_pymnt_inv', 'total_rec_prncp',\n",
    "              'total_rec_int', 'total_rec_late_fee', 'recoveries', 'collection_recovery_fee',\n",
    "              'last_pymnt_d', 'last_pymnt_amnt']\n",
    "\n",
    "df.drop(cols_drop_2, axis=1, inplace=True)\n",
    "\n",
    "# this data is not useful for the model creating process\n",
    "df= df.drop(['sub_grade','delinq_amnt', 'debt_settlement_flag', 'acc_now_delinq', 'funded_amnt', 'funded_amnt',\n",
    "             'title', 'addr_state', 'zip_code','issue_d', 'tax_liens'],axis=1)"
   ]
  },
  {
   "cell_type": "code",
   "execution_count": 9,
   "metadata": {},
   "outputs": [],
   "source": [
    "df['emp_length'] = df['emp_length'].replace({'< 1 year': '0'})\n",
    "df['emp_length'] = pd.to_numeric(df['emp_length'].str.extract(r'(\\d{1,2})')[0])"
   ]
  },
  {
   "cell_type": "code",
   "execution_count": 10,
   "metadata": {},
   "outputs": [],
   "source": [
    "for i in df.columns:\n",
    "    if len(df[i].value_counts())==1:\n",
    "        df=df.drop(i,axis=1)"
   ]
  },
  {
   "cell_type": "code",
   "execution_count": 11,
   "metadata": {},
   "outputs": [],
   "source": [
    "df['revol_util'] = pd.to_numeric(df['revol_util'].str.split('%').str[0])"
   ]
  },
  {
   "cell_type": "code",
   "execution_count": 12,
   "metadata": {},
   "outputs": [],
   "source": [
    "df['term'] = pd.to_numeric(df['term'].str.strip().str.split(' ').str[0])"
   ]
  },
  {
   "cell_type": "code",
   "execution_count": 13,
   "metadata": {},
   "outputs": [],
   "source": [
    "df['int_rate'] = pd.to_numeric(df['int_rate'].str.split('%').str[0])"
   ]
  },
  {
   "cell_type": "code",
   "execution_count": 14,
   "metadata": {},
   "outputs": [],
   "source": [
    "df = df[(df['loan_status'] == 'Fully Paid') | (df['loan_status'] == 'Charged Off')]\n",
    "df['loan_status'] = df['loan_status'].replace({'Fully Paid':1, 'Charged Off':0})"
   ]
  },
  {
   "cell_type": "code",
   "execution_count": 15,
   "metadata": {},
   "outputs": [
    {
     "data": {
      "image/png": "[encoded data removed]",
      "text/plain": [
       "<Figure size 432x288 with 1 Axes>"
      ]
     },
     "metadata": {
      "needs_background": "light"
     },
     "output_type": "display_data"
    }
   ],
   "source": [
    "sns.countplot(df['grade'], hue=df['loan_status']);"
   ]
  },
  {
   "cell_type": "code",
   "execution_count": 16,
   "metadata": {},
   "outputs": [],
   "source": [
    "df['grade'] = df['grade'].replace({'A':1, 'B':2, 'C':3, 'D':4, 'E':5,'F':6 ,'G':7})"
   ]
  },
  {
   "cell_type": "code",
   "execution_count": 17,
   "metadata": {},
   "outputs": [],
   "source": [
    "df['last_credit_pull_d'] = pd.to_numeric(df['last_credit_pull_d'].str.split('-').str[1])\n",
    "df['earliest_cr_line'] = pd.to_numeric(df['earliest_cr_line'].str.split('-').str[1])"
   ]
  },
  {
   "cell_type": "code",
   "execution_count": 18,
   "metadata": {},
   "outputs": [],
   "source": [
    "df=df.dropna()"
   ]
  },
  {
   "cell_type": "code",
   "execution_count": 19,
   "metadata": {},
   "outputs": [],
   "source": [
    "final_df = pd.DataFrame()\n",
    "for i in df['purpose'].unique():\n",
    "    purp_df = df[df['purpose'] == i]\n",
    "      \n",
    "    stats = purp_df.describe()['loan_amnt']\n",
    "    meu = stats['mean']\n",
    "    std_ = stats['std']\n",
    "\n",
    "    a=meu+std_\n",
    "    b=meu-std_\n",
    "    \n",
    "    final_df = final_df.append(purp_df[(purp_df['loan_amnt'] >= b) & (purp_df['loan_amnt'] <= a)])    \n",
    "    \n",
    "    "
   ]
  },
  {
   "cell_type": "code",
   "execution_count": 20,
   "metadata": {},
   "outputs": [],
   "source": [
    "df = final_df"
   ]
  },
  {
   "cell_type": "code",
   "execution_count": 21,
   "metadata": {},
   "outputs": [],
   "source": [
    "corr_cols = []\n",
    "x=df.corr()['loan_status'].sort_values(ascending=False)\n",
    "for i in x.index :\n",
    "    if x[i] >= 0.1 or x[i] <= -0.1:\n",
    "        corr_cols.append(i)\n",
    "    \n",
    "for i in df.select_dtypes('object').columns:\n",
    "    corr_cols.append(i)"
   ]
  },
  {
   "cell_type": "code",
   "execution_count": 22,
   "metadata": {},
   "outputs": [],
   "source": [
    "df = df[corr_cols]"
   ]
  },
  {
   "cell_type": "markdown",
   "metadata": {},
   "source": [
    "# preparing for model"
   ]
  },
  {
   "cell_type": "code",
   "execution_count": 23,
   "metadata": {},
   "outputs": [],
   "source": [
    "df1 = pd.get_dummies(df)"
   ]
  },
  {
   "cell_type": "markdown",
   "metadata": {},
   "source": [
    "# train test split / Oversampling"
   ]
  },
  {
   "cell_type": "code",
   "execution_count": 24,
   "metadata": {},
   "outputs": [],
   "source": [
    "from sklearn.model_selection import train_test_split"
   ]
  },
  {
   "cell_type": "code",
   "execution_count": 25,
   "metadata": {},
   "outputs": [],
   "source": [
    "X = df1.drop('loan_status',axis=1)\n",
    "y=df1['loan_status']"
   ]
  },
  {
   "cell_type": "code",
   "execution_count": 26,
   "metadata": {},
   "outputs": [],
   "source": [
    "X_train, X_test, y_train, y_test = train_test_split(X, y, test_size=0.25, random_state=42)"
   ]
  },
  {
   "cell_type": "code",
   "execution_count": 27,
   "metadata": {},
   "outputs": [],
   "source": [
    "smote = SMOTE()\n",
    "X_train, y_train = smote.fit_sample(X_train, y_train)"
   ]
  },
  {
   "cell_type": "code",
   "execution_count": 28,
   "metadata": {},
   "outputs": [
    {
     "data": {
      "text/plain": [
       "((36122, 27), (6953, 27), (36122,))"
      ]
     },
     "execution_count": 28,
     "metadata": {},
     "output_type": "execute_result"
    }
   ],
   "source": [
    "X_train.shape, X_test.shape, y_train.shape"
   ]
  },
  {
   "cell_type": "markdown",
   "metadata": {},
   "source": [
    "# MinMax scaling"
   ]
  },
  {
   "cell_type": "code",
   "execution_count": 29,
   "metadata": {},
   "outputs": [],
   "source": [
    "from sklearn.preprocessing import MinMaxScaler"
   ]
  },
  {
   "cell_type": "code",
   "execution_count": 30,
   "metadata": {},
   "outputs": [],
   "source": [
    "scaler = MinMaxScaler()"
   ]
  },
  {
   "cell_type": "code",
   "execution_count": 31,
   "metadata": {},
   "outputs": [],
   "source": [
    "X_train_s = scaler.fit_transform(X_train)\n",
    "X_test_s = scaler.transform(X_test)"
   ]
  },
  {
   "cell_type": "markdown",
   "metadata": {},
   "source": [
    "# Logistic Regression"
   ]
  },
  {
   "cell_type": "code",
   "execution_count": 32,
   "metadata": {},
   "outputs": [
    {
     "data": {
      "text/html": [
       "<div>\n",
       "<style scoped>\n",
       "    .dataframe tbody tr th:only-of-type {\n",
       "        vertical-align: middle;\n",
       "    }\n",
       "\n",
       "    .dataframe tbody tr th {\n",
       "        vertical-align: top;\n",
       "    }\n",
       "\n",
       "    .dataframe thead th {\n",
       "        text-align: right;\n",
       "    }\n",
       "</style>\n",
       "<table border=\"1\" class=\"dataframe\">\n",
       "  <thead>\n",
       "    <tr style=\"text-align: right;\">\n",
       "      <th></th>\n",
       "      <th>0</th>\n",
       "      <th>1</th>\n",
       "      <th>2</th>\n",
       "      <th>3</th>\n",
       "      <th>4</th>\n",
       "      <th>5</th>\n",
       "      <th>6</th>\n",
       "      <th>7</th>\n",
       "      <th>8</th>\n",
       "      <th>9</th>\n",
       "      <th>10</th>\n",
       "      <th>11</th>\n",
       "    </tr>\n",
       "  </thead>\n",
       "  <tbody>\n",
       "    <tr>\n",
       "      <th>0</th>\n",
       "      <td>none</td>\n",
       "      <td>none</td>\n",
       "      <td>none</td>\n",
       "      <td>none</td>\n",
       "      <td>none</td>\n",
       "      <td>none</td>\n",
       "      <td>l2</td>\n",
       "      <td>l2</td>\n",
       "      <td>l2</td>\n",
       "      <td>l2</td>\n",
       "      <td>l2</td>\n",
       "      <td>l2</td>\n",
       "    </tr>\n",
       "    <tr>\n",
       "      <th>1</th>\n",
       "      <td>0.001</td>\n",
       "      <td>0.01</td>\n",
       "      <td>0.1</td>\n",
       "      <td>1</td>\n",
       "      <td>100</td>\n",
       "      <td>1000</td>\n",
       "      <td>0.001</td>\n",
       "      <td>0.01</td>\n",
       "      <td>0.1</td>\n",
       "      <td>1</td>\n",
       "      <td>100</td>\n",
       "      <td>1000</td>\n",
       "    </tr>\n",
       "    <tr>\n",
       "      <th>2</th>\n",
       "      <td>0.0877193</td>\n",
       "      <td>0.0877193</td>\n",
       "      <td>0.0877193</td>\n",
       "      <td>0.0877193</td>\n",
       "      <td>0.0877193</td>\n",
       "      <td>0.0877193</td>\n",
       "      <td>0.369518</td>\n",
       "      <td>0.202851</td>\n",
       "      <td>0.104167</td>\n",
       "      <td>0.0855263</td>\n",
       "      <td>0.0877193</td>\n",
       "      <td>0.0888158</td>\n",
       "    </tr>\n",
       "  </tbody>\n",
       "</table>\n",
       "</div>"
      ],
      "text/plain": [
       "          0          1          2          3          4          5         6   \\\n",
       "0       none       none       none       none       none       none        l2   \n",
       "1      0.001       0.01        0.1          1        100       1000     0.001   \n",
       "2  0.0877193  0.0877193  0.0877193  0.0877193  0.0877193  0.0877193  0.369518   \n",
       "\n",
       "         7         8          9          10         11  \n",
       "0        l2        l2         l2         l2         l2  \n",
       "1      0.01       0.1          1        100       1000  \n",
       "2  0.202851  0.104167  0.0855263  0.0877193  0.0888158  "
      ]
     },
     "execution_count": 32,
     "metadata": {},
     "output_type": "execute_result"
    }
   ],
   "source": [
    "from sklearn.linear_model import LogisticRegression\n",
    "from sklearn.metrics import classification_report, confusion_matrix\n",
    "score= []\n",
    "c_vals = []\n",
    "penalty_ = []\n",
    "for penalty in ['none', 'l2']:\n",
    "    for c in [0.001,0.01,0.1,1,100,1000]:\n",
    "        lr = LogisticRegression(C=c, penalty=penalty).fit(X_train_s, y_train)\n",
    "        ypred = lr.predict(X_test_s)\n",
    "        conf_matrix = confusion_matrix(y_test, ypred)\n",
    "        recall = conf_matrix[0][0] / conf_matrix[0].sum() \n",
    "        penalty_.append(penalty)\n",
    "        c_vals.append(c)\n",
    "        score.append(recall)\n",
    "\n",
    "\n",
    "pd.DataFrame([penalty_, c_vals, score])\n",
    "\n",
    "# Recall for 0"
   ]
  },
  {
   "cell_type": "code",
   "execution_count": 33,
   "metadata": {},
   "outputs": [
    {
     "name": "stdout",
     "output_type": "stream",
     "text": [
      "              precision    recall  f1-score   support\n",
      "\n",
      "           0       0.27      0.37      0.31       912\n",
      "           1       0.90      0.85      0.87      6041\n",
      "\n",
      "    accuracy                           0.79      6953\n",
      "   macro avg       0.59      0.61      0.59      6953\n",
      "weighted avg       0.82      0.79      0.80      6953\n",
      "\n"
     ]
    }
   ],
   "source": [
    "lr = LogisticRegression(penalty='l2', C=.001).fit(X_train_s, y_train)\n",
    "ypred = lr.predict(X_test_s)\n",
    "\n",
    "confusion_matrix(y_test, ypred)\n",
    "print(classification_report(y_test, ypred))"
   ]
  },
  {
   "cell_type": "markdown",
   "metadata": {},
   "source": [
    "# Random Forest Classifier"
   ]
  },
  {
   "cell_type": "code",
   "execution_count": 34,
   "metadata": {},
   "outputs": [],
   "source": [
    "from sklearn.ensemble import RandomForestClassifier"
   ]
  },
  {
   "cell_type": "code",
   "execution_count": 35,
   "metadata": {},
   "outputs": [],
   "source": [
    "from sklearn.metrics import classification_report, confusion_matrix"
   ]
  },
  {
   "cell_type": "code",
   "execution_count": 36,
   "metadata": {},
   "outputs": [
    {
     "data": {
      "image/png": "[encoded data removed]",
      "text/plain": [
       "<Figure size 432x288 with 1 Axes>"
      ]
     },
     "metadata": {
      "needs_background": "light"
     },
     "output_type": "display_data"
    }
   ],
   "source": [
    "np.random.seed(101)\n",
    "score = []\n",
    "for i in range(50,350,50):\n",
    "    rf = RandomForestClassifier(n_estimators=i).fit(X_train_s, y_train)\n",
    "    ypred = rf.predict(X_test_s)\n",
    "    conf_matrix = confusion_matrix(y_test, ypred)\n",
    "    recall = conf_matrix[0][0] / conf_matrix[0].sum() \n",
    "    score.append(recall)\n",
    "    \n",
    "\n",
    "plt.plot(range(50,350,50), score, 'k--')\n",
    "plt.title('Recall for loan status == 0')\n",
    "plt.ylabel('Recall')\n",
    "plt.xlabel('n_estimators');"
   ]
  },
  {
   "cell_type": "code",
   "execution_count": 37,
   "metadata": {},
   "outputs": [
    {
     "data": {
      "text/plain": [
       "RandomForestClassifier(n_estimators=50)"
      ]
     },
     "execution_count": 37,
     "metadata": {},
     "output_type": "execute_result"
    }
   ],
   "source": [
    "np.random.seed(101)\n",
    "rf = RandomForestClassifier(n_estimators=50)\n",
    "rf.fit(X_train_s, y_train)"
   ]
  },
  {
   "cell_type": "code",
   "execution_count": 38,
   "metadata": {},
   "outputs": [],
   "source": [
    "ypred = rf.predict(X_test_s)"
   ]
  },
  {
   "cell_type": "code",
   "execution_count": 39,
   "metadata": {},
   "outputs": [],
   "source": [
    "from sklearn.metrics import classification_report, confusion_matrix"
   ]
  },
  {
   "cell_type": "code",
   "execution_count": 40,
   "metadata": {},
   "outputs": [
    {
     "data": {
      "text/plain": [
       "array([[ 296,  616],\n",
       "       [ 433, 5608]], dtype=int64)"
      ]
     },
     "execution_count": 40,
     "metadata": {},
     "output_type": "execute_result"
    }
   ],
   "source": [
    "confusion_matrix(y_test, ypred)"
   ]
  },
  {
   "cell_type": "code",
   "execution_count": 41,
   "metadata": {},
   "outputs": [
    {
     "name": "stdout",
     "output_type": "stream",
     "text": [
      "              precision    recall  f1-score   support\n",
      "\n",
      "           0       0.41      0.32      0.36       912\n",
      "           1       0.90      0.93      0.91      6041\n",
      "\n",
      "    accuracy                           0.85      6953\n",
      "   macro avg       0.65      0.63      0.64      6953\n",
      "weighted avg       0.84      0.85      0.84      6953\n",
      "\n"
     ]
    }
   ],
   "source": [
    "print(classification_report(y_test, ypred))"
   ]
  },
  {
   "cell_type": "markdown",
   "metadata": {},
   "source": [
    "# KNN neighbours"
   ]
  },
  {
   "cell_type": "code",
   "execution_count": 42,
   "metadata": {},
   "outputs": [],
   "source": [
    "from sklearn.neighbors import KNeighborsClassifier"
   ]
  },
  {
   "cell_type": "code",
   "execution_count": 43,
   "metadata": {},
   "outputs": [
    {
     "data": {
      "image/png": "[encoded data removed]",
      "text/plain": [
       "<Figure size 432x288 with 1 Axes>"
      ]
     },
     "metadata": {
      "needs_background": "light"
     },
     "output_type": "display_data"
    }
   ],
   "source": [
    "np.random.seed(101)\n",
    "score = []\n",
    "for i in range(1,40):\n",
    "    knn =KNeighborsClassifier(n_neighbors=i).fit(X_train_s, y_train)\n",
    "    ypred = knn.predict(X_test_s)\n",
    "    conf_matrix = confusion_matrix(y_test, ypred)\n",
    "    recall = conf_matrix[0][0] / conf_matrix[0].sum() \n",
    "    score.append(recall)\n",
    "    \n",
    "plt.plot(range(1,40), score, 'k--')\n",
    "plt.title('Recall for loan status == 0')\n",
    "plt.xlabel('neigbors')\n",
    "plt.ylabel('recall');"
   ]
  },
  {
   "cell_type": "code",
   "execution_count": 44,
   "metadata": {},
   "outputs": [
    {
     "data": {
      "text/plain": [
       "KNeighborsClassifier(n_neighbors=4)"
      ]
     },
     "execution_count": 44,
     "metadata": {},
     "output_type": "execute_result"
    }
   ],
   "source": [
    "np.random.seed(101)\n",
    "knn = KNeighborsClassifier(n_neighbors=4)\n",
    "knn.fit(X_train_s, y_train)"
   ]
  },
  {
   "cell_type": "code",
   "execution_count": 45,
   "metadata": {},
   "outputs": [],
   "source": [
    "ypred = knn.predict(X_test_s)"
   ]
  },
  {
   "cell_type": "code",
   "execution_count": 46,
   "metadata": {},
   "outputs": [
    {
     "name": "stdout",
     "output_type": "stream",
     "text": [
      "[[ 325  587]\n",
      " [ 900 5141]]\n",
      "              precision    recall  f1-score   support\n",
      "\n",
      "           0       0.27      0.36      0.30       912\n",
      "           1       0.90      0.85      0.87      6041\n",
      "\n",
      "    accuracy                           0.79      6953\n",
      "   macro avg       0.58      0.60      0.59      6953\n",
      "weighted avg       0.81      0.79      0.80      6953\n",
      "\n"
     ]
    }
   ],
   "source": [
    "print(confusion_matrix(y_test, ypred))\n",
    "print(classification_report(y_test, ypred))"
   ]
  },
  {
   "cell_type": "markdown",
   "metadata": {},
   "source": [
    "# Making a model using undersampling technique"
   ]
  },
  {
   "cell_type": "markdown",
   "metadata": {},
   "source": [
    "# Preparing Data"
   ]
  },
  {
   "cell_type": "code",
   "execution_count": 47,
   "metadata": {},
   "outputs": [
    {
     "data": {
      "text/html": [
       "<div>\n",
       "<style scoped>\n",
       "    .dataframe tbody tr th:only-of-type {\n",
       "        vertical-align: middle;\n",
       "    }\n",
       "\n",
       "    .dataframe tbody tr th {\n",
       "        vertical-align: top;\n",
       "    }\n",
       "\n",
       "    .dataframe thead th {\n",
       "        text-align: right;\n",
       "    }\n",
       "</style>\n",
       "<table border=\"1\" class=\"dataframe\">\n",
       "  <thead>\n",
       "    <tr style=\"text-align: right;\">\n",
       "      <th></th>\n",
       "      <th>loan_status</th>\n",
       "      <th>revol_util</th>\n",
       "      <th>term</th>\n",
       "      <th>last_credit_pull_d</th>\n",
       "      <th>grade</th>\n",
       "      <th>int_rate</th>\n",
       "      <th>home_ownership_MORTGAGE</th>\n",
       "      <th>home_ownership_NONE</th>\n",
       "      <th>home_ownership_OTHER</th>\n",
       "      <th>home_ownership_OWN</th>\n",
       "      <th>...</th>\n",
       "      <th>purpose_home_improvement</th>\n",
       "      <th>purpose_house</th>\n",
       "      <th>purpose_major_purchase</th>\n",
       "      <th>purpose_medical</th>\n",
       "      <th>purpose_moving</th>\n",
       "      <th>purpose_other</th>\n",
       "      <th>purpose_renewable_energy</th>\n",
       "      <th>purpose_small_business</th>\n",
       "      <th>purpose_vacation</th>\n",
       "      <th>purpose_wedding</th>\n",
       "    </tr>\n",
       "  </thead>\n",
       "  <tbody>\n",
       "    <tr>\n",
       "      <th>17635</th>\n",
       "      <td>1</td>\n",
       "      <td>51.7</td>\n",
       "      <td>36.0</td>\n",
       "      <td>2018.0</td>\n",
       "      <td>3</td>\n",
       "      <td>13.06</td>\n",
       "      <td>0</td>\n",
       "      <td>0</td>\n",
       "      <td>0</td>\n",
       "      <td>1</td>\n",
       "      <td>...</td>\n",
       "      <td>0</td>\n",
       "      <td>0</td>\n",
       "      <td>0</td>\n",
       "      <td>0</td>\n",
       "      <td>0</td>\n",
       "      <td>0</td>\n",
       "      <td>0</td>\n",
       "      <td>0</td>\n",
       "      <td>0</td>\n",
       "      <td>0</td>\n",
       "    </tr>\n",
       "    <tr>\n",
       "      <th>14517</th>\n",
       "      <td>1</td>\n",
       "      <td>7.0</td>\n",
       "      <td>36.0</td>\n",
       "      <td>2014.0</td>\n",
       "      <td>2</td>\n",
       "      <td>10.59</td>\n",
       "      <td>1</td>\n",
       "      <td>0</td>\n",
       "      <td>0</td>\n",
       "      <td>0</td>\n",
       "      <td>...</td>\n",
       "      <td>0</td>\n",
       "      <td>0</td>\n",
       "      <td>0</td>\n",
       "      <td>0</td>\n",
       "      <td>0</td>\n",
       "      <td>0</td>\n",
       "      <td>0</td>\n",
       "      <td>0</td>\n",
       "      <td>0</td>\n",
       "      <td>0</td>\n",
       "    </tr>\n",
       "    <tr>\n",
       "      <th>22776</th>\n",
       "      <td>1</td>\n",
       "      <td>66.5</td>\n",
       "      <td>36.0</td>\n",
       "      <td>2013.0</td>\n",
       "      <td>1</td>\n",
       "      <td>6.17</td>\n",
       "      <td>1</td>\n",
       "      <td>0</td>\n",
       "      <td>0</td>\n",
       "      <td>0</td>\n",
       "      <td>...</td>\n",
       "      <td>0</td>\n",
       "      <td>0</td>\n",
       "      <td>0</td>\n",
       "      <td>0</td>\n",
       "      <td>0</td>\n",
       "      <td>0</td>\n",
       "      <td>0</td>\n",
       "      <td>0</td>\n",
       "      <td>0</td>\n",
       "      <td>0</td>\n",
       "    </tr>\n",
       "    <tr>\n",
       "      <th>10625</th>\n",
       "      <td>1</td>\n",
       "      <td>36.5</td>\n",
       "      <td>36.0</td>\n",
       "      <td>2016.0</td>\n",
       "      <td>1</td>\n",
       "      <td>5.42</td>\n",
       "      <td>1</td>\n",
       "      <td>0</td>\n",
       "      <td>0</td>\n",
       "      <td>0</td>\n",
       "      <td>...</td>\n",
       "      <td>0</td>\n",
       "      <td>0</td>\n",
       "      <td>0</td>\n",
       "      <td>0</td>\n",
       "      <td>0</td>\n",
       "      <td>0</td>\n",
       "      <td>0</td>\n",
       "      <td>1</td>\n",
       "      <td>0</td>\n",
       "      <td>0</td>\n",
       "    </tr>\n",
       "    <tr>\n",
       "      <th>13102</th>\n",
       "      <td>1</td>\n",
       "      <td>48.0</td>\n",
       "      <td>36.0</td>\n",
       "      <td>2016.0</td>\n",
       "      <td>4</td>\n",
       "      <td>15.99</td>\n",
       "      <td>1</td>\n",
       "      <td>0</td>\n",
       "      <td>0</td>\n",
       "      <td>0</td>\n",
       "      <td>...</td>\n",
       "      <td>0</td>\n",
       "      <td>1</td>\n",
       "      <td>0</td>\n",
       "      <td>0</td>\n",
       "      <td>0</td>\n",
       "      <td>0</td>\n",
       "      <td>0</td>\n",
       "      <td>0</td>\n",
       "      <td>0</td>\n",
       "      <td>0</td>\n",
       "    </tr>\n",
       "  </tbody>\n",
       "</table>\n",
       "<p>5 rows × 28 columns</p>\n",
       "</div>"
      ],
      "text/plain": [
       "       loan_status  revol_util  term  last_credit_pull_d  grade  int_rate  \\\n",
       "17635            1        51.7  36.0              2018.0      3     13.06   \n",
       "14517            1         7.0  36.0              2014.0      2     10.59   \n",
       "22776            1        66.5  36.0              2013.0      1      6.17   \n",
       "10625            1        36.5  36.0              2016.0      1      5.42   \n",
       "13102            1        48.0  36.0              2016.0      4     15.99   \n",
       "\n",
       "       home_ownership_MORTGAGE  home_ownership_NONE  home_ownership_OTHER  \\\n",
       "17635                        0                    0                     0   \n",
       "14517                        1                    0                     0   \n",
       "22776                        1                    0                     0   \n",
       "10625                        1                    0                     0   \n",
       "13102                        1                    0                     0   \n",
       "\n",
       "       home_ownership_OWN  ...  purpose_home_improvement  purpose_house  \\\n",
       "17635                   1  ...                         0              0   \n",
       "14517                   0  ...                         0              0   \n",
       "22776                   0  ...                         0              0   \n",
       "10625                   0  ...                         0              0   \n",
       "13102                   0  ...                         0              1   \n",
       "\n",
       "       purpose_major_purchase  purpose_medical  purpose_moving  purpose_other  \\\n",
       "17635                       0                0               0              0   \n",
       "14517                       0                0               0              0   \n",
       "22776                       0                0               0              0   \n",
       "10625                       0                0               0              0   \n",
       "13102                       0                0               0              0   \n",
       "\n",
       "       purpose_renewable_energy  purpose_small_business  purpose_vacation  \\\n",
       "17635                         0                       0                 0   \n",
       "14517                         0                       0                 0   \n",
       "22776                         0                       0                 0   \n",
       "10625                         0                       1                 0   \n",
       "13102                         0                       0                 0   \n",
       "\n",
       "       purpose_wedding  \n",
       "17635                0  \n",
       "14517                0  \n",
       "22776                0  \n",
       "10625                0  \n",
       "13102                0  \n",
       "\n",
       "[5 rows x 28 columns]"
      ]
     },
     "execution_count": 47,
     "metadata": {},
     "output_type": "execute_result"
    }
   ],
   "source": [
    "df1.sample(5)"
   ]
  },
  {
   "cell_type": "code",
   "execution_count": 48,
   "metadata": {},
   "outputs": [],
   "source": [
    "rejected = df1[df1['loan_status']==0]\n",
    "accepted = df1[df1['loan_status']==1]"
   ]
  },
  {
   "cell_type": "code",
   "execution_count": 49,
   "metadata": {},
   "outputs": [
    {
     "data": {
      "text/plain": [
       "((3708, 28), (24102, 28))"
      ]
     },
     "execution_count": 49,
     "metadata": {},
     "output_type": "execute_result"
    }
   ],
   "source": [
    "rejected.shape, accepted.shape"
   ]
  },
  {
   "cell_type": "code",
   "execution_count": 50,
   "metadata": {},
   "outputs": [],
   "source": [
    "accepted=accepted.sample(frac=0.25)\n",
    "df2 = pd.concat([accepted, rejected])\n",
    "df2 = df2.sample(frac=1)\n",
    "X = df2.drop('loan_status',axis=1)\n",
    "y = df2['loan_status']\n",
    "\n",
    "X_train, X_test, y_train, y_test = train_test_split(X, y, test_size=0.25, random_state=42)"
   ]
  },
  {
   "cell_type": "code",
   "execution_count": 51,
   "metadata": {},
   "outputs": [
    {
     "data": {
      "text/plain": [
       "((7300, 27), (2434, 27), (7300,))"
      ]
     },
     "execution_count": 51,
     "metadata": {},
     "output_type": "execute_result"
    }
   ],
   "source": [
    "X_train.shape, X_test.shape, y_train.shape"
   ]
  },
  {
   "cell_type": "code",
   "execution_count": 52,
   "metadata": {},
   "outputs": [],
   "source": [
    "scaler = MinMaxScaler()\n",
    "\n",
    "X_train_s = scaler.fit_transform(X_train)\n",
    "X_test_s = scaler.transform(X_test)"
   ]
  },
  {
   "cell_type": "markdown",
   "metadata": {},
   "source": [
    "# Random Forest"
   ]
  },
  {
   "cell_type": "code",
   "execution_count": 53,
   "metadata": {},
   "outputs": [
    {
     "data": {
      "image/png": "[encoded data removed]",
      "text/plain": [
       "<Figure size 432x288 with 1 Axes>"
      ]
     },
     "metadata": {
      "needs_background": "light"
     },
     "output_type": "display_data"
    }
   ],
   "source": [
    "np.random.seed(101)\n",
    "score = []\n",
    "for i in range(50,350,50):\n",
    "    rf = RandomForestClassifier(n_estimators=i).fit(X_train_s, y_train)\n",
    "    ypred = rf.predict(X_test_s)\n",
    "    conf_matrix = confusion_matrix(y_test, ypred)\n",
    "    recall = conf_matrix[0][0] / conf_matrix[0].sum() \n",
    "    score.append(recall)\n",
    "    \n",
    "\n",
    "plt.plot(range(50,350,50), score, 'k--')\n",
    "plt.title('Recall for loan status == 0')\n",
    "plt.ylabel('Recall')\n",
    "plt.xlabel('n_estimators');"
   ]
  },
  {
   "cell_type": "code",
   "execution_count": 54,
   "metadata": {},
   "outputs": [
    {
     "name": "stdout",
     "output_type": "stream",
     "text": [
      "              precision    recall  f1-score   support\n",
      "\n",
      "           0       0.66      0.64      0.65       919\n",
      "           1       0.79      0.80      0.79      1515\n",
      "\n",
      "    accuracy                           0.74      2434\n",
      "   macro avg       0.72      0.72      0.72      2434\n",
      "weighted avg       0.74      0.74      0.74      2434\n",
      "\n"
     ]
    }
   ],
   "source": [
    "np.random.seed(101)\n",
    "rf = RandomForestClassifier(n_estimators=150)\n",
    "rf.fit(X_train_s, y_train)\n",
    "\n",
    "ypred = rf.predict(X_test_s)\n",
    "\n",
    "from sklearn.metrics import classification_report, confusion_matrix\n",
    "\n",
    "confusion_matrix(y_test, ypred)\n",
    "\n",
    "print(classification_report(y_test, ypred))"
   ]
  },
  {
   "cell_type": "markdown",
   "metadata": {},
   "source": [
    "# KNN"
   ]
  },
  {
   "cell_type": "code",
   "execution_count": 55,
   "metadata": {},
   "outputs": [
    {
     "data": {
      "image/png": "[encoded data removed]",
      "text/plain": [
       "<Figure size 432x288 with 1 Axes>"
      ]
     },
     "metadata": {
      "needs_background": "light"
     },
     "output_type": "display_data"
    }
   ],
   "source": [
    "np.random.seed(101)\n",
    "score = []\n",
    "for i in range(1,40):\n",
    "    knn =KNeighborsClassifier(n_neighbors=i).fit(X_train_s, y_train)\n",
    "    ypred = knn.predict(X_test_s)\n",
    "    conf_matrix = confusion_matrix(y_test, ypred)\n",
    "    recall = conf_matrix[0][0] / conf_matrix[0].sum() \n",
    "    score.append(recall)\n",
    "    \n",
    "plt.plot(range(1,40), score, 'k--')\n",
    "plt.title('Recall for loan status == 0')\n",
    "plt.xlabel('neigbors')\n",
    "plt.ylabel('recall');"
   ]
  },
  {
   "cell_type": "code",
   "execution_count": 56,
   "metadata": {},
   "outputs": [
    {
     "name": "stdout",
     "output_type": "stream",
     "text": [
      "[[639 280]\n",
      " [596 919]]\n",
      "              precision    recall  f1-score   support\n",
      "\n",
      "           0       0.52      0.70      0.59       919\n",
      "           1       0.77      0.61      0.68      1515\n",
      "\n",
      "    accuracy                           0.64      2434\n",
      "   macro avg       0.64      0.65      0.64      2434\n",
      "weighted avg       0.67      0.64      0.65      2434\n",
      "\n"
     ]
    }
   ],
   "source": [
    "np.random.seed(101)\n",
    "knn = KNeighborsClassifier(n_neighbors=4)\n",
    "knn.fit(X_train_s, y_train)\n",
    "\n",
    "ypred = knn.predict(X_test_s)\n",
    "\n",
    "print(confusion_matrix(y_test, ypred))\n",
    "print(classification_report(y_test, ypred))"
   ]
  },
  {
   "cell_type": "markdown",
   "metadata": {},
   "source": [
    "# Logistic Regression"
   ]
  },
  {
   "cell_type": "code",
   "execution_count": 57,
   "metadata": {},
   "outputs": [],
   "source": [
    "from sklearn.linear_model import LogisticRegression"
   ]
  },
  {
   "cell_type": "code",
   "execution_count": 58,
   "metadata": {},
   "outputs": [],
   "source": [
    "score= []\n",
    "c_vals = []\n",
    "penalty_ = []\n",
    "for penalty in ['l1', 'l2']:\n",
    "    for c in [0.001,0.01,0.1,1,100,1000]:\n",
    "        lr = LogisticRegression(C=c, penalty=penalty, solver='liblinear').fit(X_train_s, y_train)\n",
    "        ypred = lr.predict(X_test_s)\n",
    "        conf_matrix = confusion_matrix(y_test, ypred)\n",
    "        recall = conf_matrix[0][0] / conf_matrix[0].sum() \n",
    "        penalty_.append(penalty)\n",
    "        c_vals.append(c)\n",
    "        score.append(recall)\n"
   ]
  },
  {
   "cell_type": "code",
   "execution_count": 59,
   "metadata": {},
   "outputs": [
    {
     "data": {
      "text/html": [
       "<div>\n",
       "<style scoped>\n",
       "    .dataframe tbody tr th:only-of-type {\n",
       "        vertical-align: middle;\n",
       "    }\n",
       "\n",
       "    .dataframe tbody tr th {\n",
       "        vertical-align: top;\n",
       "    }\n",
       "\n",
       "    .dataframe thead th {\n",
       "        text-align: right;\n",
       "    }\n",
       "</style>\n",
       "<table border=\"1\" class=\"dataframe\">\n",
       "  <thead>\n",
       "    <tr style=\"text-align: right;\">\n",
       "      <th></th>\n",
       "      <th>0</th>\n",
       "      <th>1</th>\n",
       "      <th>2</th>\n",
       "      <th>3</th>\n",
       "      <th>4</th>\n",
       "      <th>5</th>\n",
       "      <th>6</th>\n",
       "      <th>7</th>\n",
       "      <th>8</th>\n",
       "      <th>9</th>\n",
       "      <th>10</th>\n",
       "      <th>11</th>\n",
       "    </tr>\n",
       "  </thead>\n",
       "  <tbody>\n",
       "    <tr>\n",
       "      <th>0</th>\n",
       "      <td>l1</td>\n",
       "      <td>l1</td>\n",
       "      <td>l1</td>\n",
       "      <td>l1</td>\n",
       "      <td>l1</td>\n",
       "      <td>l1</td>\n",
       "      <td>l2</td>\n",
       "      <td>l2</td>\n",
       "      <td>l2</td>\n",
       "      <td>l2</td>\n",
       "      <td>l2</td>\n",
       "      <td>l2</td>\n",
       "    </tr>\n",
       "    <tr>\n",
       "      <th>1</th>\n",
       "      <td>0.001</td>\n",
       "      <td>0.01</td>\n",
       "      <td>0.1</td>\n",
       "      <td>1</td>\n",
       "      <td>100</td>\n",
       "      <td>1000</td>\n",
       "      <td>0.001</td>\n",
       "      <td>0.01</td>\n",
       "      <td>0.1</td>\n",
       "      <td>1</td>\n",
       "      <td>100</td>\n",
       "      <td>1000</td>\n",
       "    </tr>\n",
       "    <tr>\n",
       "      <th>2</th>\n",
       "      <td>1</td>\n",
       "      <td>0.17519</td>\n",
       "      <td>0.385201</td>\n",
       "      <td>0.412405</td>\n",
       "      <td>0.416757</td>\n",
       "      <td>0.416757</td>\n",
       "      <td>0.0054407</td>\n",
       "      <td>0.286181</td>\n",
       "      <td>0.369967</td>\n",
       "      <td>0.405876</td>\n",
       "      <td>0.416757</td>\n",
       "      <td>0.416757</td>\n",
       "    </tr>\n",
       "  </tbody>\n",
       "</table>\n",
       "</div>"
      ],
      "text/plain": [
       "      0        1         2         3         4         5          6   \\\n",
       "0     l1       l1        l1        l1        l1        l1         l2   \n",
       "1  0.001     0.01       0.1         1       100      1000      0.001   \n",
       "2      1  0.17519  0.385201  0.412405  0.416757  0.416757  0.0054407   \n",
       "\n",
       "         7         8         9         10        11  \n",
       "0        l2        l2        l2        l2        l2  \n",
       "1      0.01       0.1         1       100      1000  \n",
       "2  0.286181  0.369967  0.405876  0.416757  0.416757  "
      ]
     },
     "execution_count": 59,
     "metadata": {},
     "output_type": "execute_result"
    }
   ],
   "source": [
    "pd.DataFrame([penalty_, c_vals, score])"
   ]
  },
  {
   "cell_type": "code",
   "execution_count": 60,
   "metadata": {},
   "outputs": [
    {
     "name": "stdout",
     "output_type": "stream",
     "text": [
      "              precision    recall  f1-score   support\n",
      "\n",
      "           0       0.59      0.42      0.49       919\n",
      "           1       0.70      0.82      0.76      1515\n",
      "\n",
      "    accuracy                           0.67      2434\n",
      "   macro avg       0.64      0.62      0.62      2434\n",
      "weighted avg       0.66      0.67      0.65      2434\n",
      "\n"
     ]
    }
   ],
   "source": [
    "lr = LogisticRegression(solver='liblinear', penalty='l1', C=100).fit(X_train_s, y_train)\n",
    "ypred = lr.predict(X_test_s)\n",
    "\n",
    "confusion_matrix(y_test, ypred)\n",
    "print(classification_report(y_test, ypred))"
   ]
  },
  {
   "cell_type": "code",
   "execution_count": null,
   "metadata": {},
   "outputs": [],
   "source": []
  }
 ],
 "metadata": {
  "kernelspec": {
   "display_name": "Python 3",
   "language": "python",
   "name": "python3"
  },
  "language_info": {
   "codemirror_mode": {
    "name": "ipython",
    "version": 3
   },
   "file_extension": ".py",
   "mimetype": "text/x-python",
   "name": "python",
   "nbconvert_exporter": "python",
   "pygments_lexer": "ipython3",
   "version": "3.7.6"
  }
 },
 "nbformat": 4,
 "nbformat_minor": 4
}
