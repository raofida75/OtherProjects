{
 "cells": [
  {
   "cell_type": "code",
   "execution_count": 1,
   "metadata": {},
   "outputs": [],
   "source": [
    "import pandas as pd\n",
    "import numpy as np\n",
    "import matplotlib.pyplot as plt\n",
    "import seaborn as sns\n",
    "sns.set_style('whitegrid')"
   ]
  },
  {
   "cell_type": "code",
   "execution_count": 2,
   "metadata": {},
   "outputs": [],
   "source": [
    "df = pd.read_csv('Car_Purchasing_Data.csv', encoding='ISO-8859-1')"
   ]
  },
  {
   "cell_type": "code",
   "execution_count": 3,
   "metadata": {},
   "outputs": [
    {
     "name": "stdout",
     "output_type": "stream",
     "text": [
      "<class 'pandas.core.frame.DataFrame'>\n",
      "RangeIndex: 500 entries, 0 to 499\n",
      "Data columns (total 9 columns):\n",
      " #   Column               Non-Null Count  Dtype  \n",
      "---  ------               --------------  -----  \n",
      " 0   Customer Name        500 non-null    object \n",
      " 1   Customer e-mail      500 non-null    object \n",
      " 2   Country              500 non-null    object \n",
      " 3   Gender               500 non-null    int64  \n",
      " 4   Age                  500 non-null    float64\n",
      " 5   Annual Salary        500 non-null    float64\n",
      " 6   Credit Card Debt     500 non-null    float64\n",
      " 7   Net Worth            500 non-null    float64\n",
      " 8   Car Purchase Amount  500 non-null    float64\n",
      "dtypes: float64(5), int64(1), object(3)\n",
      "memory usage: 35.3+ KB\n"
     ]
    }
   ],
   "source": [
    "df.info()"
   ]
  },
  {
   "cell_type": "code",
   "execution_count": 4,
   "metadata": {},
   "outputs": [
    {
     "data": {
      "text/html": [
       "<div>\n",
       "<style scoped>\n",
       "    .dataframe tbody tr th:only-of-type {\n",
       "        vertical-align: middle;\n",
       "    }\n",
       "\n",
       "    .dataframe tbody tr th {\n",
       "        vertical-align: top;\n",
       "    }\n",
       "\n",
       "    .dataframe thead th {\n",
       "        text-align: right;\n",
       "    }\n",
       "</style>\n",
       "<table border=\"1\" class=\"dataframe\">\n",
       "  <thead>\n",
       "    <tr style=\"text-align: right;\">\n",
       "      <th></th>\n",
       "      <th>Gender</th>\n",
       "      <th>Age</th>\n",
       "      <th>Annual Salary</th>\n",
       "      <th>Credit Card Debt</th>\n",
       "      <th>Net Worth</th>\n",
       "      <th>Car Purchase Amount</th>\n",
       "    </tr>\n",
       "  </thead>\n",
       "  <tbody>\n",
       "    <tr>\n",
       "      <th>count</th>\n",
       "      <td>500.000000</td>\n",
       "      <td>500.000000</td>\n",
       "      <td>500.000000</td>\n",
       "      <td>500.000000</td>\n",
       "      <td>500.000000</td>\n",
       "      <td>500.000000</td>\n",
       "    </tr>\n",
       "    <tr>\n",
       "      <th>mean</th>\n",
       "      <td>0.506000</td>\n",
       "      <td>46.241674</td>\n",
       "      <td>62127.239608</td>\n",
       "      <td>9607.645049</td>\n",
       "      <td>431475.713625</td>\n",
       "      <td>44209.799218</td>\n",
       "    </tr>\n",
       "    <tr>\n",
       "      <th>std</th>\n",
       "      <td>0.500465</td>\n",
       "      <td>7.978862</td>\n",
       "      <td>11703.378228</td>\n",
       "      <td>3489.187973</td>\n",
       "      <td>173536.756340</td>\n",
       "      <td>10773.178744</td>\n",
       "    </tr>\n",
       "    <tr>\n",
       "      <th>min</th>\n",
       "      <td>0.000000</td>\n",
       "      <td>20.000000</td>\n",
       "      <td>20000.000000</td>\n",
       "      <td>100.000000</td>\n",
       "      <td>20000.000000</td>\n",
       "      <td>9000.000000</td>\n",
       "    </tr>\n",
       "    <tr>\n",
       "      <th>25%</th>\n",
       "      <td>0.000000</td>\n",
       "      <td>40.949969</td>\n",
       "      <td>54391.977195</td>\n",
       "      <td>7397.515792</td>\n",
       "      <td>299824.195900</td>\n",
       "      <td>37629.896040</td>\n",
       "    </tr>\n",
       "    <tr>\n",
       "      <th>50%</th>\n",
       "      <td>1.000000</td>\n",
       "      <td>46.049901</td>\n",
       "      <td>62915.497035</td>\n",
       "      <td>9655.035568</td>\n",
       "      <td>426750.120650</td>\n",
       "      <td>43997.783390</td>\n",
       "    </tr>\n",
       "    <tr>\n",
       "      <th>75%</th>\n",
       "      <td>1.000000</td>\n",
       "      <td>51.612263</td>\n",
       "      <td>70117.862005</td>\n",
       "      <td>11798.867487</td>\n",
       "      <td>557324.478725</td>\n",
       "      <td>51254.709517</td>\n",
       "    </tr>\n",
       "    <tr>\n",
       "      <th>max</th>\n",
       "      <td>1.000000</td>\n",
       "      <td>70.000000</td>\n",
       "      <td>100000.000000</td>\n",
       "      <td>20000.000000</td>\n",
       "      <td>1000000.000000</td>\n",
       "      <td>80000.000000</td>\n",
       "    </tr>\n",
       "  </tbody>\n",
       "</table>\n",
       "</div>"
      ],
      "text/plain": [
       "           Gender         Age  Annual Salary  Credit Card Debt  \\\n",
       "count  500.000000  500.000000     500.000000        500.000000   \n",
       "mean     0.506000   46.241674   62127.239608       9607.645049   \n",
       "std      0.500465    7.978862   11703.378228       3489.187973   \n",
       "min      0.000000   20.000000   20000.000000        100.000000   \n",
       "25%      0.000000   40.949969   54391.977195       7397.515792   \n",
       "50%      1.000000   46.049901   62915.497035       9655.035568   \n",
       "75%      1.000000   51.612263   70117.862005      11798.867487   \n",
       "max      1.000000   70.000000  100000.000000      20000.000000   \n",
       "\n",
       "            Net Worth  Car Purchase Amount  \n",
       "count      500.000000           500.000000  \n",
       "mean    431475.713625         44209.799218  \n",
       "std     173536.756340         10773.178744  \n",
       "min      20000.000000          9000.000000  \n",
       "25%     299824.195900         37629.896040  \n",
       "50%     426750.120650         43997.783390  \n",
       "75%     557324.478725         51254.709517  \n",
       "max    1000000.000000         80000.000000  "
      ]
     },
     "execution_count": 4,
     "metadata": {},
     "output_type": "execute_result"
    }
   ],
   "source": [
    "df.describe()"
   ]
  },
  {
   "cell_type": "code",
   "execution_count": 5,
   "metadata": {},
   "outputs": [
    {
     "data": {
      "text/html": [
       "<div>\n",
       "<style scoped>\n",
       "    .dataframe tbody tr th:only-of-type {\n",
       "        vertical-align: middle;\n",
       "    }\n",
       "\n",
       "    .dataframe tbody tr th {\n",
       "        vertical-align: top;\n",
       "    }\n",
       "\n",
       "    .dataframe thead th {\n",
       "        text-align: right;\n",
       "    }\n",
       "</style>\n",
       "<table border=\"1\" class=\"dataframe\">\n",
       "  <thead>\n",
       "    <tr style=\"text-align: right;\">\n",
       "      <th></th>\n",
       "      <th>Customer Name</th>\n",
       "      <th>Customer e-mail</th>\n",
       "      <th>Country</th>\n",
       "      <th>Gender</th>\n",
       "      <th>Age</th>\n",
       "      <th>Annual Salary</th>\n",
       "      <th>Credit Card Debt</th>\n",
       "      <th>Net Worth</th>\n",
       "      <th>Car Purchase Amount</th>\n",
       "    </tr>\n",
       "  </thead>\n",
       "  <tbody>\n",
       "    <tr>\n",
       "      <th>0</th>\n",
       "      <td>Martina Avila</td>\n",
       "      <td>cubilia.Curae.Phasellus@quisaccumsanconvallis.edu</td>\n",
       "      <td>Bulgaria</td>\n",
       "      <td>0</td>\n",
       "      <td>41.851720</td>\n",
       "      <td>62812.09301</td>\n",
       "      <td>11609.380910</td>\n",
       "      <td>238961.2505</td>\n",
       "      <td>35321.45877</td>\n",
       "    </tr>\n",
       "    <tr>\n",
       "      <th>1</th>\n",
       "      <td>Harlan Barnes</td>\n",
       "      <td>eu.dolor@diam.co.uk</td>\n",
       "      <td>Belize</td>\n",
       "      <td>0</td>\n",
       "      <td>40.870623</td>\n",
       "      <td>66646.89292</td>\n",
       "      <td>9572.957136</td>\n",
       "      <td>530973.9078</td>\n",
       "      <td>45115.52566</td>\n",
       "    </tr>\n",
       "    <tr>\n",
       "      <th>2</th>\n",
       "      <td>Naomi Rodriquez</td>\n",
       "      <td>vulputate.mauris.sagittis@ametconsectetueradip...</td>\n",
       "      <td>Algeria</td>\n",
       "      <td>1</td>\n",
       "      <td>43.152897</td>\n",
       "      <td>53798.55112</td>\n",
       "      <td>11160.355060</td>\n",
       "      <td>638467.1773</td>\n",
       "      <td>42925.70921</td>\n",
       "    </tr>\n",
       "    <tr>\n",
       "      <th>3</th>\n",
       "      <td>Jade Cunningham</td>\n",
       "      <td>malesuada@dignissim.com</td>\n",
       "      <td>Cook Islands</td>\n",
       "      <td>1</td>\n",
       "      <td>58.271369</td>\n",
       "      <td>79370.03798</td>\n",
       "      <td>14426.164850</td>\n",
       "      <td>548599.0524</td>\n",
       "      <td>67422.36313</td>\n",
       "    </tr>\n",
       "  </tbody>\n",
       "</table>\n",
       "</div>"
      ],
      "text/plain": [
       "     Customer Name                                    Customer e-mail  \\\n",
       "0    Martina Avila  cubilia.Curae.Phasellus@quisaccumsanconvallis.edu   \n",
       "1    Harlan Barnes                                eu.dolor@diam.co.uk   \n",
       "2  Naomi Rodriquez  vulputate.mauris.sagittis@ametconsectetueradip...   \n",
       "3  Jade Cunningham                            malesuada@dignissim.com   \n",
       "\n",
       "        Country  Gender        Age  Annual Salary  Credit Card Debt  \\\n",
       "0      Bulgaria       0  41.851720    62812.09301      11609.380910   \n",
       "1        Belize       0  40.870623    66646.89292       9572.957136   \n",
       "2       Algeria       1  43.152897    53798.55112      11160.355060   \n",
       "3  Cook Islands       1  58.271369    79370.03798      14426.164850   \n",
       "\n",
       "     Net Worth  Car Purchase Amount  \n",
       "0  238961.2505          35321.45877  \n",
       "1  530973.9078          45115.52566  \n",
       "2  638467.1773          42925.70921  \n",
       "3  548599.0524          67422.36313  "
      ]
     },
     "execution_count": 5,
     "metadata": {},
     "output_type": "execute_result"
    }
   ],
   "source": [
    "df.head(4)"
   ]
  },
  {
   "cell_type": "markdown",
   "metadata": {},
   "source": [
    "# EDA"
   ]
  },
  {
   "cell_type": "code",
   "execution_count": 6,
   "metadata": {},
   "outputs": [
    {
     "data": {
      "text/plain": [
       "<matplotlib.axes._subplots.AxesSubplot at 0x275331bbfc8>"
      ]
     },
     "execution_count": 6,
     "metadata": {},
     "output_type": "execute_result"
    },
    {
     "data": {
      "image/png": "[encoded data removed]",
      "text/plain": [
       "<Figure size 432x288 with 1 Axes>"
      ]
     },
     "metadata": {},
     "output_type": "display_data"
    }
   ],
   "source": [
    "sns.distplot(df['Car Purchase Amount'])"
   ]
  },
  {
   "cell_type": "code",
   "execution_count": 7,
   "metadata": {},
   "outputs": [
    {
     "data": {
      "text/plain": [
       "Credit Card Debt    0.028882\n",
       "Net Worth           0.488580\n",
       "Annual Salary       0.617862\n",
       "Age                 0.632865\n",
       "Name: Car Purchase Amount, dtype: float64"
      ]
     },
     "execution_count": 7,
     "metadata": {},
     "output_type": "execute_result"
    }
   ],
   "source": [
    "df.corr()['Car Purchase Amount'].sort_values()[1:-1]"
   ]
  },
  {
   "cell_type": "code",
   "execution_count": 8,
   "metadata": {},
   "outputs": [
    {
     "data": {
      "image/png": "[encoded data removed]",
      "text/plain": [
       "<Figure size 288x216 with 1 Axes>"
      ]
     },
     "metadata": {},
     "output_type": "display_data"
    },
    {
     "data": {
      "image/png": "[encoded data removed]",
      "text/plain": [
       "<Figure size 288x216 with 1 Axes>"
      ]
     },
     "metadata": {},
     "output_type": "display_data"
    },
    {
     "data": {
      "image/png": "[encoded data removed]",
      "text/plain": [
       "<Figure size 288x216 with 1 Axes>"
      ]
     },
     "metadata": {},
     "output_type": "display_data"
    },
    {
     "data": {
      "image/png": "[encoded data removed]",
      "text/plain": [
       "<Figure size 288x216 with 1 Axes>"
      ]
     },
     "metadata": {},
     "output_type": "display_data"
    }
   ],
   "source": [
    "for i in df.iloc[:,4:8]:\n",
    "    plt.figure(figsize=(4,3))\n",
    "    sns.scatterplot(x=i, y='Car Purchase Amount', data=df)\n",
    "    plt.show()"
   ]
  },
  {
   "cell_type": "code",
   "execution_count": 9,
   "metadata": {},
   "outputs": [
    {
     "data": {
      "text/plain": [
       "<matplotlib.legend.Legend at 0x275482157c8>"
      ]
     },
     "execution_count": 9,
     "metadata": {},
     "output_type": "execute_result"
    },
    {
     "data": {
      "image/png": "[encoded data removed]",
      "text/plain": [
       "<Figure size 576x360 with 1 Axes>"
      ]
     },
     "metadata": {},
     "output_type": "display_data"
    }
   ],
   "source": [
    "plt.figure(figsize=(8,5))\n",
    "sns.distplot(df[df['Gender'] == 0]['Car Purchase Amount'], kde=False, color='black', bins=35, label='Female')\n",
    "sns.distplot(df[df['Gender'] == 1]['Car Purchase Amount'], kde=False, bins=35, label='Male')\n",
    "plt.legend()"
   ]
  },
  {
   "cell_type": "code",
   "execution_count": 10,
   "metadata": {},
   "outputs": [
    {
     "data": {
      "text/html": [
       "<div>\n",
       "<style scoped>\n",
       "    .dataframe tbody tr th:only-of-type {\n",
       "        vertical-align: middle;\n",
       "    }\n",
       "\n",
       "    .dataframe tbody tr th {\n",
       "        vertical-align: top;\n",
       "    }\n",
       "\n",
       "    .dataframe thead th {\n",
       "        text-align: right;\n",
       "    }\n",
       "</style>\n",
       "<table border=\"1\" class=\"dataframe\">\n",
       "  <thead>\n",
       "    <tr style=\"text-align: right;\">\n",
       "      <th></th>\n",
       "      <th>Age</th>\n",
       "      <th>Annual Salary</th>\n",
       "      <th>Credit Card Debt</th>\n",
       "      <th>Net Worth</th>\n",
       "      <th>Car Purchase Amount</th>\n",
       "    </tr>\n",
       "    <tr>\n",
       "      <th>Gender</th>\n",
       "      <th></th>\n",
       "      <th></th>\n",
       "      <th></th>\n",
       "      <th></th>\n",
       "      <th></th>\n",
       "    </tr>\n",
       "  </thead>\n",
       "  <tbody>\n",
       "    <tr>\n",
       "      <th>0</th>\n",
       "      <td>46.761847</td>\n",
       "      <td>62559.128313</td>\n",
       "      <td>9522.298721</td>\n",
       "      <td>432948.721130</td>\n",
       "      <td>44933.131928</td>\n",
       "    </tr>\n",
       "    <tr>\n",
       "      <th>1</th>\n",
       "      <td>45.733838</td>\n",
       "      <td>61705.593322</td>\n",
       "      <td>9690.967353</td>\n",
       "      <td>430037.639104</td>\n",
       "      <td>43503.620644</td>\n",
       "    </tr>\n",
       "  </tbody>\n",
       "</table>\n",
       "</div>"
      ],
      "text/plain": [
       "              Age  Annual Salary  Credit Card Debt      Net Worth  \\\n",
       "Gender                                                              \n",
       "0       46.761847   62559.128313       9522.298721  432948.721130   \n",
       "1       45.733838   61705.593322       9690.967353  430037.639104   \n",
       "\n",
       "        Car Purchase Amount  \n",
       "Gender                       \n",
       "0              44933.131928  \n",
       "1              43503.620644  "
      ]
     },
     "execution_count": 10,
     "metadata": {},
     "output_type": "execute_result"
    }
   ],
   "source": [
    "df.groupby('Gender').mean()"
   ]
  },
  {
   "cell_type": "code",
   "execution_count": 11,
   "metadata": {},
   "outputs": [],
   "source": [
    "# sns.countplot(df['Gender'])"
   ]
  },
  {
   "cell_type": "markdown",
   "metadata": {},
   "source": [
    "# processing data"
   ]
  },
  {
   "cell_type": "code",
   "execution_count": 12,
   "metadata": {},
   "outputs": [],
   "source": [
    "df = df.drop(['Customer Name', 'Customer e-mail', 'Country'], axis=1)"
   ]
  },
  {
   "cell_type": "code",
   "execution_count": 13,
   "metadata": {},
   "outputs": [],
   "source": [
    "df.columns = ['gender', 'age', 'annual_salary', 'credit_card_debt', 'net_worth',\n",
    "       'car_purchase_amount']"
   ]
  },
  {
   "cell_type": "code",
   "execution_count": 14,
   "metadata": {},
   "outputs": [
    {
     "data": {
      "text/html": [
       "<div>\n",
       "<style scoped>\n",
       "    .dataframe tbody tr th:only-of-type {\n",
       "        vertical-align: middle;\n",
       "    }\n",
       "\n",
       "    .dataframe tbody tr th {\n",
       "        vertical-align: top;\n",
       "    }\n",
       "\n",
       "    .dataframe thead th {\n",
       "        text-align: right;\n",
       "    }\n",
       "</style>\n",
       "<table border=\"1\" class=\"dataframe\">\n",
       "  <thead>\n",
       "    <tr style=\"text-align: right;\">\n",
       "      <th></th>\n",
       "      <th>gender</th>\n",
       "      <th>age</th>\n",
       "      <th>annual_salary</th>\n",
       "      <th>credit_card_debt</th>\n",
       "      <th>net_worth</th>\n",
       "      <th>car_purchase_amount</th>\n",
       "    </tr>\n",
       "  </thead>\n",
       "  <tbody>\n",
       "    <tr>\n",
       "      <th>0</th>\n",
       "      <td>0</td>\n",
       "      <td>41.851720</td>\n",
       "      <td>62812.09301</td>\n",
       "      <td>11609.380910</td>\n",
       "      <td>238961.2505</td>\n",
       "      <td>35321.45877</td>\n",
       "    </tr>\n",
       "    <tr>\n",
       "      <th>1</th>\n",
       "      <td>0</td>\n",
       "      <td>40.870623</td>\n",
       "      <td>66646.89292</td>\n",
       "      <td>9572.957136</td>\n",
       "      <td>530973.9078</td>\n",
       "      <td>45115.52566</td>\n",
       "    </tr>\n",
       "    <tr>\n",
       "      <th>2</th>\n",
       "      <td>1</td>\n",
       "      <td>43.152897</td>\n",
       "      <td>53798.55112</td>\n",
       "      <td>11160.355060</td>\n",
       "      <td>638467.1773</td>\n",
       "      <td>42925.70921</td>\n",
       "    </tr>\n",
       "    <tr>\n",
       "      <th>3</th>\n",
       "      <td>1</td>\n",
       "      <td>58.271369</td>\n",
       "      <td>79370.03798</td>\n",
       "      <td>14426.164850</td>\n",
       "      <td>548599.0524</td>\n",
       "      <td>67422.36313</td>\n",
       "    </tr>\n",
       "    <tr>\n",
       "      <th>4</th>\n",
       "      <td>1</td>\n",
       "      <td>57.313749</td>\n",
       "      <td>59729.15130</td>\n",
       "      <td>5358.712177</td>\n",
       "      <td>560304.0671</td>\n",
       "      <td>55915.46248</td>\n",
       "    </tr>\n",
       "  </tbody>\n",
       "</table>\n",
       "</div>"
      ],
      "text/plain": [
       "   gender        age  annual_salary  credit_card_debt    net_worth  \\\n",
       "0       0  41.851720    62812.09301      11609.380910  238961.2505   \n",
       "1       0  40.870623    66646.89292       9572.957136  530973.9078   \n",
       "2       1  43.152897    53798.55112      11160.355060  638467.1773   \n",
       "3       1  58.271369    79370.03798      14426.164850  548599.0524   \n",
       "4       1  57.313749    59729.15130       5358.712177  560304.0671   \n",
       "\n",
       "   car_purchase_amount  \n",
       "0          35321.45877  \n",
       "1          45115.52566  \n",
       "2          42925.70921  \n",
       "3          67422.36313  \n",
       "4          55915.46248  "
      ]
     },
     "execution_count": 14,
     "metadata": {},
     "output_type": "execute_result"
    }
   ],
   "source": [
    "df.head()"
   ]
  },
  {
   "cell_type": "markdown",
   "metadata": {},
   "source": [
    "# Train Test Split"
   ]
  },
  {
   "cell_type": "code",
   "execution_count": 15,
   "metadata": {},
   "outputs": [],
   "source": [
    "from sklearn.model_selection import train_test_split"
   ]
  },
  {
   "cell_type": "code",
   "execution_count": 16,
   "metadata": {},
   "outputs": [],
   "source": [
    "X = df.drop('car_purchase_amount', axis=1)\n",
    "y = df['car_purchase_amount']"
   ]
  },
  {
   "cell_type": "code",
   "execution_count": 17,
   "metadata": {},
   "outputs": [],
   "source": [
    "X_train, X_test, y_train, y_test = train_test_split(X, y, test_size=0.25, random_state=42)"
   ]
  },
  {
   "cell_type": "code",
   "execution_count": 18,
   "metadata": {},
   "outputs": [
    {
     "data": {
      "text/plain": [
       "((375, 5), (125, 5), (375,))"
      ]
     },
     "execution_count": 18,
     "metadata": {},
     "output_type": "execute_result"
    }
   ],
   "source": [
    "X_train.shape, X_test.shape, y_train.shape"
   ]
  },
  {
   "cell_type": "markdown",
   "metadata": {},
   "source": [
    "# KNN model"
   ]
  },
  {
   "cell_type": "code",
   "execution_count": 19,
   "metadata": {},
   "outputs": [],
   "source": [
    "from sklearn.neighbors import KNeighborsRegressor\n",
    "from sklearn.metrics import mean_squared_error"
   ]
  },
  {
   "cell_type": "code",
   "execution_count": 20,
   "metadata": {},
   "outputs": [],
   "source": [
    "error_list = []\n",
    "for i in range(1,40):\n",
    "    knn = KNeighborsRegressor(i)\n",
    "    knn.fit(X_train, y_train)\n",
    "    knn_pred = knn.predict(X_test)\n",
    "    error = np.sqrt(mean_squared_error(y_test, knn_pred))\n",
    "    error_list.append(error)\n",
    "\n",
    "    "
   ]
  },
  {
   "cell_type": "code",
   "execution_count": 21,
   "metadata": {},
   "outputs": [
    {
     "data": {
      "text/plain": [
       "<matplotlib.axes._subplots.AxesSubplot at 0x275487c15c8>"
      ]
     },
     "execution_count": 21,
     "metadata": {},
     "output_type": "execute_result"
    },
    {
     "data": {
      "image/png": "[encoded data removed]",
      "text/plain": [
       "<Figure size 432x288 with 1 Axes>"
      ]
     },
     "metadata": {},
     "output_type": "display_data"
    }
   ],
   "source": [
    "pd.DataFrame(error_list).plot()\n",
    "\n",
    "# k = 6 is giving the lowest error"
   ]
  },
  {
   "cell_type": "code",
   "execution_count": null,
   "metadata": {},
   "outputs": [],
   "source": []
  },
  {
   "cell_type": "markdown",
   "metadata": {},
   "source": [
    "# Random Forest"
   ]
  },
  {
   "cell_type": "code",
   "execution_count": 22,
   "metadata": {},
   "outputs": [],
   "source": [
    "from sklearn.ensemble import RandomForestRegressor"
   ]
  },
  {
   "cell_type": "code",
   "execution_count": 23,
   "metadata": {},
   "outputs": [],
   "source": [
    "error_list_ = []\n",
    "for i in [50,100,150,200,250]:\n",
    "    rf = RandomForestRegressor(i)\n",
    "    rf.fit(X_train, y_train)\n",
    "    rf_pred = rf.predict(X_test)\n",
    "    error_ = np.sqrt(mean_squared_error(y_test, rf_pred))\n",
    "    error_list_.append(error_)"
   ]
  },
  {
   "cell_type": "code",
   "execution_count": 24,
   "metadata": {},
   "outputs": [
    {
     "data": {
      "text/plain": [
       "<matplotlib.axes._subplots.AxesSubplot at 0x2754897b888>"
      ]
     },
     "execution_count": 24,
     "metadata": {},
     "output_type": "execute_result"
    },
    {
     "data": {
      "image/png": "[encoded data removed]",
      "text/plain": [
       "<Figure size 432x288 with 1 Axes>"
      ]
     },
     "metadata": {},
     "output_type": "display_data"
    }
   ],
   "source": [
    "pd.DataFrame(error_list_, index=[50,100,150,200,250]).plot()\n",
    "# lowest error at i = 250"
   ]
  },
  {
   "cell_type": "code",
   "execution_count": 25,
   "metadata": {},
   "outputs": [
    {
     "name": "stdout",
     "output_type": "stream",
     "text": [
      "2103.857731437745\n"
     ]
    }
   ],
   "source": [
    "rf = RandomForestRegressor(250)\n",
    "rf.fit(X_train, y_train)\n",
    "rf_pred = rf.predict(X_test)\n",
    "print(np.sqrt(mean_squared_error(y_test, rf_pred)))"
   ]
  },
  {
   "cell_type": "code",
   "execution_count": 26,
   "metadata": {},
   "outputs": [
    {
     "data": {
      "text/plain": [
       "array([37369.12637172])"
      ]
     },
     "execution_count": 26,
     "metadata": {},
     "output_type": "execute_result"
    }
   ],
   "source": [
    "rf.predict(np.array([[0, 41.851720, 62812.09301, 11609.380910,238961.2505 ]]))"
   ]
  },
  {
   "cell_type": "markdown",
   "metadata": {},
   "source": [
    "# Scaling Data"
   ]
  },
  {
   "cell_type": "code",
   "execution_count": 27,
   "metadata": {},
   "outputs": [],
   "source": [
    "from sklearn.preprocessing import MinMaxScaler"
   ]
  },
  {
   "cell_type": "code",
   "execution_count": 28,
   "metadata": {},
   "outputs": [],
   "source": [
    "scale=MinMaxScaler()"
   ]
  },
  {
   "cell_type": "code",
   "execution_count": 29,
   "metadata": {},
   "outputs": [],
   "source": [
    "X_train = scale.fit_transform(X_train)"
   ]
  },
  {
   "cell_type": "code",
   "execution_count": 30,
   "metadata": {},
   "outputs": [],
   "source": [
    "X_test = scale.transform(X_test)"
   ]
  },
  {
   "cell_type": "code",
   "execution_count": 31,
   "metadata": {},
   "outputs": [
    {
     "data": {
      "text/plain": [
       "((125, 5), (125,), (375, 5))"
      ]
     },
     "execution_count": 31,
     "metadata": {},
     "output_type": "execute_result"
    }
   ],
   "source": [
    "X_test.shape, y_test.shape, X_train.shape"
   ]
  },
  {
   "cell_type": "markdown",
   "metadata": {},
   "source": [
    "# Artificial Neural Network"
   ]
  },
  {
   "cell_type": "code",
   "execution_count": 32,
   "metadata": {},
   "outputs": [],
   "source": [
    "from tensorflow.keras.models import Sequential\n",
    "from tensorflow.keras.layers import Dense"
   ]
  },
  {
   "cell_type": "code",
   "execution_count": 33,
   "metadata": {},
   "outputs": [],
   "source": [
    "ann = Sequential()\n",
    "ann.add(Dense(64, input_shape=(5,), activation='relu'))\n",
    "ann.add(Dense(64, activation='relu'))\n",
    "ann.add(Dense(64, activation='relu'))\n",
    "ann.add(Dense(64, activation='relu'))\n",
    "\n",
    "\n",
    "ann.add(Dense(1, activation='linear'))\n",
    "\n",
    "ann.compile(optimizer='adam', loss='mse')"
   ]
  },
  {
   "cell_type": "code",
   "execution_count": 34,
   "metadata": {},
   "outputs": [
    {
     "name": "stdout",
     "output_type": "stream",
     "text": [
      "Epoch 1/150\n",
      "19/19 [==============================] - 0s 9ms/step - loss: 2065755648.0000 - val_loss: 1952280960.0000\n",
      "Epoch 2/150\n",
      "19/19 [==============================] - 0s 3ms/step - loss: 2065376384.0000 - val_loss: 1951373056.0000\n",
      "Epoch 3/150\n",
      "19/19 [==============================] - 0s 3ms/step - loss: 2063010816.0000 - val_loss: 1946123392.0000\n",
      "Epoch 4/150\n",
      "19/19 [==============================] - 0s 3ms/step - loss: 2051244288.0000 - val_loss: 1923103488.0000\n",
      "Epoch 5/150\n",
      "19/19 [==============================] - 0s 3ms/step - loss: 2007567744.0000 - val_loss: 1846101504.0000\n",
      "Epoch 6/150\n",
      "19/19 [==============================] - 0s 3ms/step - loss: 1877666944.0000 - val_loss: 1641513728.0000\n",
      "Epoch 7/150\n",
      "19/19 [==============================] - 0s 3ms/step - loss: 1578631552.0000 - val_loss: 1215894656.0000\n",
      "Epoch 8/150\n",
      "19/19 [==============================] - 0s 3ms/step - loss: 1040488832.0000 - val_loss: 578111872.0000\n",
      "Epoch 9/150\n",
      "19/19 [==============================] - 0s 3ms/step - loss: 392489280.0000 - val_loss: 110003120.0000\n",
      "Epoch 10/150\n",
      "19/19 [==============================] - 0s 3ms/step - loss: 104617152.0000 - val_loss: 105146672.0000\n",
      "Epoch 11/150\n",
      "19/19 [==============================] - 0s 3ms/step - loss: 93995816.0000 - val_loss: 80260264.0000\n",
      "Epoch 12/150\n",
      "19/19 [==============================] - 0s 3ms/step - loss: 84550352.0000 - val_loss: 71409872.0000\n",
      "Epoch 13/150\n",
      "19/19 [==============================] - 0s 3ms/step - loss: 79706040.0000 - val_loss: 70534216.0000\n",
      "Epoch 14/150\n",
      "19/19 [==============================] - 0s 3ms/step - loss: 75593504.0000 - val_loss: 66978924.0000\n",
      "Epoch 15/150\n",
      "19/19 [==============================] - 0s 3ms/step - loss: 71720608.0000 - val_loss: 64501836.0000\n",
      "Epoch 16/150\n",
      "19/19 [==============================] - 0s 3ms/step - loss: 68402064.0000 - val_loss: 60377368.0000\n",
      "Epoch 17/150\n",
      "19/19 [==============================] - 0s 3ms/step - loss: 65146192.0000 - val_loss: 56235820.0000\n",
      "Epoch 18/150\n",
      "19/19 [==============================] - 0s 3ms/step - loss: 62273748.0000 - val_loss: 55362360.0000\n",
      "Epoch 19/150\n",
      "19/19 [==============================] - 0s 3ms/step - loss: 59485544.0000 - val_loss: 51928992.0000\n",
      "Epoch 20/150\n",
      "19/19 [==============================] - 0s 3ms/step - loss: 56835828.0000 - val_loss: 50678212.0000\n",
      "Epoch 21/150\n",
      "19/19 [==============================] - 0s 3ms/step - loss: 54715472.0000 - val_loss: 48178872.0000\n",
      "Epoch 22/150\n",
      "19/19 [==============================] - 0s 3ms/step - loss: 52781744.0000 - val_loss: 45456036.0000\n",
      "Epoch 23/150\n",
      "19/19 [==============================] - 0s 3ms/step - loss: 50422940.0000 - val_loss: 45025280.0000\n",
      "Epoch 24/150\n",
      "19/19 [==============================] - 0s 3ms/step - loss: 48644060.0000 - val_loss: 42107740.0000\n",
      "Epoch 25/150\n",
      "19/19 [==============================] - 0s 3ms/step - loss: 46938052.0000 - val_loss: 41124960.0000\n",
      "Epoch 26/150\n",
      "19/19 [==============================] - 0s 3ms/step - loss: 45207180.0000 - val_loss: 39615048.0000\n",
      "Epoch 27/150\n",
      "19/19 [==============================] - 0s 3ms/step - loss: 43924104.0000 - val_loss: 38391972.0000\n",
      "Epoch 28/150\n",
      "19/19 [==============================] - 0s 3ms/step - loss: 42494020.0000 - val_loss: 37326672.0000\n",
      "Epoch 29/150\n",
      "19/19 [==============================] - 0s 3ms/step - loss: 41295240.0000 - val_loss: 36130432.0000\n",
      "Epoch 30/150\n",
      "19/19 [==============================] - 0s 3ms/step - loss: 40093376.0000 - val_loss: 34894072.0000\n",
      "Epoch 31/150\n",
      "19/19 [==============================] - 0s 3ms/step - loss: 39020904.0000 - val_loss: 33826384.0000\n",
      "Epoch 32/150\n",
      "19/19 [==============================] - 0s 3ms/step - loss: 37815844.0000 - val_loss: 33312658.0000\n",
      "Epoch 33/150\n",
      "19/19 [==============================] - 0s 3ms/step - loss: 36918636.0000 - val_loss: 31604480.0000\n",
      "Epoch 34/150\n",
      "19/19 [==============================] - 0s 3ms/step - loss: 36031896.0000 - val_loss: 31014366.0000\n",
      "Epoch 35/150\n",
      "19/19 [==============================] - 0s 3ms/step - loss: 35020372.0000 - val_loss: 29874394.0000\n",
      "Epoch 36/150\n",
      "19/19 [==============================] - 0s 3ms/step - loss: 34307000.0000 - val_loss: 29839552.0000\n",
      "Epoch 37/150\n",
      "19/19 [==============================] - 0s 3ms/step - loss: 33347588.0000 - val_loss: 28553428.0000\n",
      "Epoch 38/150\n",
      "19/19 [==============================] - 0s 3ms/step - loss: 32568078.0000 - val_loss: 27608388.0000\n",
      "Epoch 39/150\n",
      "19/19 [==============================] - 0s 3ms/step - loss: 31983486.0000 - val_loss: 27048180.0000\n",
      "Epoch 40/150\n",
      "19/19 [==============================] - 0s 3ms/step - loss: 31497558.0000 - val_loss: 26677480.0000\n",
      "Epoch 41/150\n",
      "19/19 [==============================] - 0s 3ms/step - loss: 30299238.0000 - val_loss: 25358586.0000\n",
      "Epoch 42/150\n",
      "19/19 [==============================] - 0s 3ms/step - loss: 29800980.0000 - val_loss: 25123970.0000\n",
      "Epoch 43/150\n",
      "19/19 [==============================] - 0s 3ms/step - loss: 28789634.0000 - val_loss: 23972926.0000\n",
      "Epoch 44/150\n",
      "19/19 [==============================] - 0s 3ms/step - loss: 28092350.0000 - val_loss: 23891984.0000\n",
      "Epoch 45/150\n",
      "19/19 [==============================] - 0s 3ms/step - loss: 27297292.0000 - val_loss: 22805020.0000\n",
      "Epoch 46/150\n",
      "19/19 [==============================] - 0s 3ms/step - loss: 26700836.0000 - val_loss: 22514138.0000\n",
      "Epoch 47/150\n",
      "19/19 [==============================] - 0s 3ms/step - loss: 25985918.0000 - val_loss: 21571188.0000\n",
      "Epoch 48/150\n",
      "19/19 [==============================] - 0s 3ms/step - loss: 25374466.0000 - val_loss: 21142394.0000\n",
      "Epoch 49/150\n",
      "19/19 [==============================] - 0s 3ms/step - loss: 24772524.0000 - val_loss: 20216666.0000\n",
      "Epoch 50/150\n",
      "19/19 [==============================] - 0s 3ms/step - loss: 24039982.0000 - val_loss: 19983238.0000\n",
      "Epoch 51/150\n",
      "19/19 [==============================] - 0s 3ms/step - loss: 23362670.0000 - val_loss: 19320214.0000\n",
      "Epoch 52/150\n",
      "19/19 [==============================] - 0s 3ms/step - loss: 22681660.0000 - val_loss: 18504536.0000\n",
      "Epoch 53/150\n",
      "19/19 [==============================] - 0s 3ms/step - loss: 21969486.0000 - val_loss: 18244264.0000\n",
      "Epoch 54/150\n",
      "19/19 [==============================] - 0s 3ms/step - loss: 21401640.0000 - val_loss: 17429986.0000\n",
      "Epoch 55/150\n",
      "19/19 [==============================] - 0s 3ms/step - loss: 20762828.0000 - val_loss: 16915924.0000\n",
      "Epoch 56/150\n",
      "19/19 [==============================] - 0s 3ms/step - loss: 20158318.0000 - val_loss: 16301855.0000\n",
      "Epoch 57/150\n",
      "19/19 [==============================] - 0s 6ms/step - loss: 19830846.0000 - val_loss: 15718607.0000\n",
      "Epoch 58/150\n",
      "19/19 [==============================] - 0s 3ms/step - loss: 19087708.0000 - val_loss: 15307307.0000\n",
      "Epoch 59/150\n",
      "19/19 [==============================] - 0s 3ms/step - loss: 18297164.0000 - val_loss: 14566139.0000\n",
      "Epoch 60/150\n",
      "19/19 [==============================] - 0s 3ms/step - loss: 17735634.0000 - val_loss: 14193260.0000\n",
      "Epoch 61/150\n",
      "19/19 [==============================] - 0s 3ms/step - loss: 17250388.0000 - val_loss: 13774417.0000\n",
      "Epoch 62/150\n",
      "19/19 [==============================] - 0s 3ms/step - loss: 16637710.0000 - val_loss: 13136894.0000\n",
      "Epoch 63/150\n",
      "19/19 [==============================] - 0s 3ms/step - loss: 15972163.0000 - val_loss: 12852250.0000\n",
      "Epoch 64/150\n",
      "19/19 [==============================] - 0s 4ms/step - loss: 15405408.0000 - val_loss: 12078348.0000\n",
      "Epoch 65/150\n",
      "19/19 [==============================] - 0s 4ms/step - loss: 14972856.0000 - val_loss: 11648489.0000\n",
      "Epoch 66/150\n",
      "19/19 [==============================] - 0s 4ms/step - loss: 14542585.0000 - val_loss: 11552003.0000\n",
      "Epoch 67/150\n",
      "19/19 [==============================] - 0s 4ms/step - loss: 14104340.0000 - val_loss: 10707545.0000\n",
      "Epoch 68/150\n",
      "19/19 [==============================] - 0s 3ms/step - loss: 13605963.0000 - val_loss: 10304277.0000\n",
      "Epoch 69/150\n",
      "19/19 [==============================] - 0s 4ms/step - loss: 12838819.0000 - val_loss: 9935726.0000\n",
      "Epoch 70/150\n",
      "19/19 [==============================] - 0s 3ms/step - loss: 12553417.0000 - val_loss: 9975010.0000\n",
      "Epoch 71/150\n",
      "19/19 [==============================] - 0s 3ms/step - loss: 12045501.0000 - val_loss: 9073479.0000\n",
      "Epoch 72/150\n"
     ]
    },
    {
     "name": "stdout",
     "output_type": "stream",
     "text": [
      "19/19 [==============================] - 0s 4ms/step - loss: 11333967.0000 - val_loss: 8840733.0000\n",
      "Epoch 73/150\n",
      "19/19 [==============================] - 0s 4ms/step - loss: 10969644.0000 - val_loss: 8290853.5000\n",
      "Epoch 74/150\n",
      "19/19 [==============================] - 0s 3ms/step - loss: 10502776.0000 - val_loss: 8085464.5000\n",
      "Epoch 75/150\n",
      "19/19 [==============================] - 0s 3ms/step - loss: 10170505.0000 - val_loss: 7710801.0000\n",
      "Epoch 76/150\n",
      "19/19 [==============================] - 0s 4ms/step - loss: 9704980.0000 - val_loss: 7261643.0000\n",
      "Epoch 77/150\n",
      "19/19 [==============================] - 0s 3ms/step - loss: 9347395.0000 - val_loss: 7218230.5000\n",
      "Epoch 78/150\n",
      "19/19 [==============================] - 0s 3ms/step - loss: 8793289.0000 - val_loss: 6606844.5000\n",
      "Epoch 79/150\n",
      "19/19 [==============================] - 0s 3ms/step - loss: 8566502.0000 - val_loss: 6496908.0000\n",
      "Epoch 80/150\n",
      "19/19 [==============================] - 0s 4ms/step - loss: 8124024.5000 - val_loss: 6091375.0000\n",
      "Epoch 81/150\n",
      "19/19 [==============================] - 0s 3ms/step - loss: 7649665.5000 - val_loss: 5698227.0000\n",
      "Epoch 82/150\n",
      "19/19 [==============================] - 0s 3ms/step - loss: 7311576.5000 - val_loss: 5509836.0000\n",
      "Epoch 83/150\n",
      "19/19 [==============================] - 0s 3ms/step - loss: 6965555.0000 - val_loss: 5153903.0000\n",
      "Epoch 84/150\n",
      "19/19 [==============================] - 0s 3ms/step - loss: 6583786.0000 - val_loss: 4986406.5000\n",
      "Epoch 85/150\n",
      "19/19 [==============================] - 0s 3ms/step - loss: 6295027.5000 - val_loss: 4642901.0000\n",
      "Epoch 86/150\n",
      "19/19 [==============================] - 0s 3ms/step - loss: 5984623.0000 - val_loss: 4521238.0000\n",
      "Epoch 87/150\n",
      "19/19 [==============================] - 0s 3ms/step - loss: 5710179.5000 - val_loss: 4212125.0000\n",
      "Epoch 88/150\n",
      "19/19 [==============================] - 0s 3ms/step - loss: 5345170.5000 - val_loss: 3940499.2500\n",
      "Epoch 89/150\n",
      "19/19 [==============================] - 0s 3ms/step - loss: 5072812.0000 - val_loss: 3852088.2500\n",
      "Epoch 90/150\n",
      "19/19 [==============================] - 0s 3ms/step - loss: 4874886.0000 - val_loss: 3529101.7500\n",
      "Epoch 91/150\n",
      "19/19 [==============================] - 0s 3ms/step - loss: 4531522.5000 - val_loss: 3348540.0000\n",
      "Epoch 92/150\n",
      "19/19 [==============================] - 0s 3ms/step - loss: 4302479.5000 - val_loss: 3130888.0000\n",
      "Epoch 93/150\n",
      "19/19 [==============================] - 0s 3ms/step - loss: 4048806.0000 - val_loss: 2957741.5000\n",
      "Epoch 94/150\n",
      "19/19 [==============================] - 0s 3ms/step - loss: 3820370.7500 - val_loss: 2858664.5000\n",
      "Epoch 95/150\n",
      "19/19 [==============================] - 0s 3ms/step - loss: 3576022.5000 - val_loss: 2621009.5000\n",
      "Epoch 96/150\n",
      "19/19 [==============================] - 0s 3ms/step - loss: 3420057.5000 - val_loss: 2612418.5000\n",
      "Epoch 97/150\n",
      "19/19 [==============================] - 0s 3ms/step - loss: 3262208.2500 - val_loss: 2326280.7500\n",
      "Epoch 98/150\n",
      "19/19 [==============================] - 0s 3ms/step - loss: 2980565.0000 - val_loss: 2174344.2500\n",
      "Epoch 99/150\n",
      "19/19 [==============================] - 0s 3ms/step - loss: 2821240.7500 - val_loss: 2046329.6250\n",
      "Epoch 100/150\n",
      "19/19 [==============================] - 0s 3ms/step - loss: 2651852.0000 - val_loss: 1924318.2500\n",
      "Epoch 101/150\n",
      "19/19 [==============================] - 0s 3ms/step - loss: 2442898.2500 - val_loss: 1790858.2500\n",
      "Epoch 102/150\n",
      "19/19 [==============================] - 0s 3ms/step - loss: 2343669.5000 - val_loss: 1665101.3750\n",
      "Epoch 103/150\n",
      "19/19 [==============================] - 0s 3ms/step - loss: 2143160.0000 - val_loss: 1566408.3750\n",
      "Epoch 104/150\n",
      "19/19 [==============================] - 0s 3ms/step - loss: 1987769.3750 - val_loss: 1458356.8750\n",
      "Epoch 105/150\n",
      "19/19 [==============================] - 0s 3ms/step - loss: 1860274.3750 - val_loss: 1351078.8750\n",
      "Epoch 106/150\n",
      "19/19 [==============================] - 0s 3ms/step - loss: 1726774.3750 - val_loss: 1260211.1250\n",
      "Epoch 107/150\n",
      "19/19 [==============================] - 0s 3ms/step - loss: 1615378.1250 - val_loss: 1248718.8750\n",
      "Epoch 108/150\n",
      "19/19 [==============================] - 0s 3ms/step - loss: 1528947.2500 - val_loss: 1083328.6250\n",
      "Epoch 109/150\n",
      "19/19 [==============================] - 0s 3ms/step - loss: 1375555.2500 - val_loss: 995308.2500\n",
      "Epoch 110/150\n",
      "19/19 [==============================] - 0s 3ms/step - loss: 1274013.8750 - val_loss: 934462.8125\n",
      "Epoch 111/150\n",
      "19/19 [==============================] - 0s 3ms/step - loss: 1174336.0000 - val_loss: 849907.0625\n",
      "Epoch 112/150\n",
      "19/19 [==============================] - 0s 3ms/step - loss: 1103715.3750 - val_loss: 783232.1875\n",
      "Epoch 113/150\n",
      "19/19 [==============================] - 0s 3ms/step - loss: 1020080.0000 - val_loss: 717807.1250\n",
      "Epoch 114/150\n",
      "19/19 [==============================] - 0s 3ms/step - loss: 927431.8125 - val_loss: 663286.4375\n",
      "Epoch 115/150\n",
      "19/19 [==============================] - 0s 3ms/step - loss: 837079.1875 - val_loss: 607659.0625\n",
      "Epoch 116/150\n",
      "19/19 [==============================] - 0s 3ms/step - loss: 772151.7500 - val_loss: 569049.6875\n",
      "Epoch 117/150\n",
      "19/19 [==============================] - 0s 3ms/step - loss: 719884.6875 - val_loss: 509983.3750\n",
      "Epoch 118/150\n",
      "19/19 [==============================] - 0s 3ms/step - loss: 647504.1875 - val_loss: 466880.1562\n",
      "Epoch 119/150\n",
      "19/19 [==============================] - 0s 3ms/step - loss: 597937.3125 - val_loss: 448917.7500\n",
      "Epoch 120/150\n",
      "19/19 [==============================] - 0s 3ms/step - loss: 558863.0625 - val_loss: 390429.9062\n",
      "Epoch 121/150\n",
      "19/19 [==============================] - 0s 3ms/step - loss: 498311.7188 - val_loss: 359269.3125\n",
      "Epoch 122/150\n",
      "19/19 [==============================] - 0s 3ms/step - loss: 443414.4375 - val_loss: 318336.1250\n",
      "Epoch 123/150\n",
      "19/19 [==============================] - 0s 3ms/step - loss: 411158.0312 - val_loss: 291107.1875\n",
      "Epoch 124/150\n",
      "19/19 [==============================] - 0s 3ms/step - loss: 364373.3438 - val_loss: 272888.8438\n",
      "Epoch 125/150\n",
      "19/19 [==============================] - 0s 3ms/step - loss: 341489.7188 - val_loss: 235647.6562\n",
      "Epoch 126/150\n",
      "19/19 [==============================] - 0s 3ms/step - loss: 303579.7812 - val_loss: 215016.7969\n",
      "Epoch 127/150\n",
      "19/19 [==============================] - 0s 3ms/step - loss: 273492.4375 - val_loss: 195357.2344\n",
      "Epoch 128/150\n",
      "19/19 [==============================] - 0s 3ms/step - loss: 245227.7656 - val_loss: 171950.9375\n",
      "Epoch 129/150\n",
      "19/19 [==============================] - 0s 3ms/step - loss: 219410.8281 - val_loss: 162470.0000\n",
      "Epoch 130/150\n",
      "19/19 [==============================] - 0s 3ms/step - loss: 208761.8594 - val_loss: 139633.5156\n",
      "Epoch 131/150\n",
      "19/19 [==============================] - 0s 3ms/step - loss: 187323.0312 - val_loss: 124721.2812\n",
      "Epoch 132/150\n",
      "19/19 [==============================] - 0s 3ms/step - loss: 165435.0938 - val_loss: 113147.3438\n",
      "Epoch 133/150\n",
      "19/19 [==============================] - 0s 3ms/step - loss: 148204.9219 - val_loss: 103482.6562\n",
      "Epoch 134/150\n",
      "19/19 [==============================] - 0s 3ms/step - loss: 136505.4531 - val_loss: 91123.8516\n",
      "Epoch 135/150\n",
      "19/19 [==============================] - 0s 3ms/step - loss: 122531.1562 - val_loss: 80400.8438\n",
      "Epoch 136/150\n",
      "19/19 [==============================] - 0s 3ms/step - loss: 112010.3359 - val_loss: 73608.4844\n",
      "Epoch 137/150\n",
      "19/19 [==============================] - 0s 3ms/step - loss: 101555.7031 - val_loss: 66434.8984\n",
      "Epoch 138/150\n",
      "19/19 [==============================] - 0s 3ms/step - loss: 94281.2422 - val_loss: 62941.8867\n",
      "Epoch 139/150\n",
      "19/19 [==============================] - 0s 3ms/step - loss: 89199.1641 - val_loss: 55235.5469\n",
      "Epoch 140/150\n",
      "19/19 [==============================] - 0s 3ms/step - loss: 78363.3438 - val_loss: 48220.1797\n",
      "Epoch 141/150\n",
      "19/19 [==============================] - 0s 3ms/step - loss: 72218.3828 - val_loss: 48415.9922\n",
      "Epoch 142/150\n",
      "19/19 [==============================] - 0s 3ms/step - loss: 67946.0547 - val_loss: 40180.8086\n",
      "Epoch 143/150\n",
      "19/19 [==============================] - 0s 3ms/step - loss: 62068.8594 - val_loss: 36317.5039\n",
      "Epoch 144/150\n",
      "19/19 [==============================] - 0s 3ms/step - loss: 57606.6133 - val_loss: 33448.9414\n",
      "Epoch 145/150\n"
     ]
    },
    {
     "name": "stdout",
     "output_type": "stream",
     "text": [
      "19/19 [==============================] - 0s 3ms/step - loss: 54213.9414 - val_loss: 31611.0059\n",
      "Epoch 146/150\n",
      "19/19 [==============================] - 0s 3ms/step - loss: 51135.0781 - val_loss: 28821.2871\n",
      "Epoch 147/150\n",
      "19/19 [==============================] - 0s 3ms/step - loss: 47563.9102 - val_loss: 26443.0566\n",
      "Epoch 148/150\n",
      "19/19 [==============================] - 0s 3ms/step - loss: 45268.0430 - val_loss: 24905.9961\n",
      "Epoch 149/150\n",
      "19/19 [==============================] - 0s 3ms/step - loss: 42852.9297 - val_loss: 22693.8535\n",
      "Epoch 150/150\n",
      "19/19 [==============================] - 0s 3ms/step - loss: 40393.3359 - val_loss: 21406.7012\n"
     ]
    },
    {
     "data": {
      "text/plain": [
       "<tensorflow.python.keras.callbacks.History at 0x2754f7c71c8>"
      ]
     },
     "execution_count": 34,
     "metadata": {},
     "output_type": "execute_result"
    }
   ],
   "source": [
    "ann.fit(X_train, y_train.values, epochs=150, batch_size=16, validation_split=0.2, verbose=1)"
   ]
  },
  {
   "cell_type": "code",
   "execution_count": 35,
   "metadata": {},
   "outputs": [
    {
     "name": "stdout",
     "output_type": "stream",
     "text": [
      "Model: \"sequential\"\n",
      "_________________________________________________________________\n",
      "Layer (type)                 Output Shape              Param #   \n",
      "=================================================================\n",
      "dense (Dense)                (None, 64)                384       \n",
      "_________________________________________________________________\n",
      "dense_1 (Dense)              (None, 64)                4160      \n",
      "_________________________________________________________________\n",
      "dense_2 (Dense)              (None, 64)                4160      \n",
      "_________________________________________________________________\n",
      "dense_3 (Dense)              (None, 64)                4160      \n",
      "_________________________________________________________________\n",
      "dense_4 (Dense)              (None, 1)                 65        \n",
      "=================================================================\n",
      "Total params: 12,929\n",
      "Trainable params: 12,929\n",
      "Non-trainable params: 0\n",
      "_________________________________________________________________\n"
     ]
    }
   ],
   "source": [
    "ann.summary()"
   ]
  },
  {
   "cell_type": "code",
   "execution_count": 36,
   "metadata": {},
   "outputs": [
    {
     "data": {
      "text/plain": [
       "<matplotlib.axes._subplots.AxesSubplot at 0x2754fa3b548>"
      ]
     },
     "execution_count": 36,
     "metadata": {},
     "output_type": "execute_result"
    },
    {
     "data": {
      "image/png": "[encoded data removed]",
      "text/plain": [
       "<Figure size 432x288 with 1 Axes>"
      ]
     },
     "metadata": {},
     "output_type": "display_data"
    }
   ],
   "source": [
    "pd.DataFrame(ann.history.history).plot()"
   ]
  },
  {
   "cell_type": "code",
   "execution_count": 37,
   "metadata": {},
   "outputs": [
    {
     "name": "stdout",
     "output_type": "stream",
     "text": [
      "12/12 [==============================] - 0s 978us/step - loss: 35514.2773\n"
     ]
    },
    {
     "data": {
      "text/plain": [
       "35514.27734375"
      ]
     },
     "execution_count": 37,
     "metadata": {},
     "output_type": "execute_result"
    }
   ],
   "source": [
    "ann.evaluate(X_train, y_train)"
   ]
  },
  {
   "cell_type": "code",
   "execution_count": 38,
   "metadata": {},
   "outputs": [],
   "source": [
    "prediction= ann.predict(X_test)"
   ]
  },
  {
   "cell_type": "code",
   "execution_count": 39,
   "metadata": {},
   "outputs": [],
   "source": [
    "from sklearn.metrics import mean_squared_error,r2_score"
   ]
  },
  {
   "cell_type": "code",
   "execution_count": 40,
   "metadata": {},
   "outputs": [
    {
     "name": "stdout",
     "output_type": "stream",
     "text": [
      "86.05041200907412\n",
      "0.9999303102631332\n"
     ]
    }
   ],
   "source": [
    "print(np.sqrt(mean_squared_error(y_test, prediction)))\n",
    "print(r2_score(y_test, prediction))\n"
   ]
  },
  {
   "cell_type": "code",
   "execution_count": 41,
   "metadata": {},
   "outputs": [],
   "source": [
    "pred_df  =pd.DataFrame(prediction, y_test.values).reset_index()\n",
    "pred_df.columns = ['prediction', 'expected_value']"
   ]
  },
  {
   "cell_type": "code",
   "execution_count": 42,
   "metadata": {},
   "outputs": [
    {
     "data": {
      "text/plain": [
       "<matplotlib.axes._subplots.AxesSubplot at 0x2754fa44108>"
      ]
     },
     "execution_count": 42,
     "metadata": {},
     "output_type": "execute_result"
    },
    {
     "data": {
      "image/png": "[encoded data removed]",
      "text/plain": [
       "<Figure size 432x288 with 1 Axes>"
      ]
     },
     "metadata": {},
     "output_type": "display_data"
    }
   ],
   "source": [
    "sns.scatterplot(x='prediction', y='expected_value', data=pred_df)"
   ]
  },
  {
   "cell_type": "code",
   "execution_count": 43,
   "metadata": {},
   "outputs": [
    {
     "data": {
      "text/plain": [
       "Text(0.5, 1.0, 'Error')"
      ]
     },
     "execution_count": 43,
     "metadata": {},
     "output_type": "execute_result"
    },
    {
     "data": {
      "image/png": "[encoded data removed]",
      "text/plain": [
       "<Figure size 432x288 with 1 Axes>"
      ]
     },
     "metadata": {},
     "output_type": "display_data"
    }
   ],
   "source": [
    "sns.distplot(pred_df.apply(lambda x: x[0]-x[1], axis=1))\n",
    "plt.title('Error')"
   ]
  },
  {
   "cell_type": "code",
   "execution_count": null,
   "metadata": {},
   "outputs": [],
   "source": []
  },
  {
   "cell_type": "code",
   "execution_count": null,
   "metadata": {},
   "outputs": [],
   "source": []
  }
 ],
 "metadata": {
  "kernelspec": {
   "display_name": "Python 3",
   "language": "python",
   "name": "python3"
  },
  "language_info": {
   "codemirror_mode": {
    "name": "ipython",
    "version": 3
   },
   "file_extension": ".py",
   "mimetype": "text/x-python",
   "name": "python",
   "nbconvert_exporter": "python",
   "pygments_lexer": "ipython3",
   "version": "3.7.6"
  }
 },
 "nbformat": 4,
 "nbformat_minor": 4
}
